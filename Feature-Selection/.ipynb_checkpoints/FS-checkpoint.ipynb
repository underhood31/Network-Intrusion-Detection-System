{
 "cells": [
  {
   "cell_type": "code",
   "execution_count": 110,
   "metadata": {},
   "outputs": [],
   "source": [
    "import pandas as pd\n",
    "import numpy as np\n",
    "import matplotlib.pyplot as plt\n",
    "import numpy as np\n",
    "from matplotlib import colors\n",
    "from matplotlib.ticker import PercentFormatter"
   ]
  },
  {
   "cell_type": "markdown",
   "metadata": {},
   "source": [
    "# Features"
   ]
  },
  {
   "cell_type": "code",
   "execution_count": 63,
   "metadata": {},
   "outputs": [],
   "source": [
    "features={\n",
    "0:\t\"srcip\",\n",
    "1:\t\"sport\",\n",
    "2:\t\"dstip\",\n",
    "3:\t\"dsport\",\n",
    "4:\t\"proto\",\n",
    "5:\t\"state\",\n",
    "6:\t\"dur\",\n",
    "7:\t\"sbytes\",\n",
    "8:\t\"dbytes\",\n",
    "9:\t\"sttl\",\n",
    "10:\t\"dttl\",\n",
    "11:\t\"sloss\",\n",
    "12\t:\"dloss\",\n",
    "13:\t\"service\",\n",
    "14:\t\"Sload\",\n",
    "15:\t\"Dload\",\n",
    "16:\t\"Spkts\",\n",
    "17:\t\"Dpkts\",\n",
    "18:\t'swin',\n",
    "19:\t\"dwin\",\n",
    "20:\t\"stcpb\",\n",
    "21:\t\"dtcpb\",\n",
    "22:\t'smeansz',\n",
    "23:\t\"dmeansz\",\n",
    "24:\t\"trans_depth\",\n",
    "25:\t\"res_bdy_len\",\n",
    "26:\t\"Sjit\",\n",
    "27:\t\"Djit\",\n",
    "28:\t\"Stime\",\n",
    "29:\t\"Ltime\",\n",
    "30:\t\"Sintpkt\",\n",
    "31:\t\"Dintpkt\",\n",
    "32:\t\"tcprtt\",\n",
    "33:\t\"synack\",\n",
    "34:\t\"ackdat\",\n",
    "35:\t\"is_sm_ips_ports\",\n",
    "36:\t\"ct_state_ttl\",\n",
    "37:\t\"ct_flw_http_mthd\",\n",
    "38:\t\"is_ftp_login\",\n",
    "39:\t\"ct_ftp_cmd\",\n",
    "40:\t\"ct_srv_src\",\n",
    "41:\t\"ct_srv_dst\",\n",
    "42:\t\"ct_dst_ltm\",\n",
    "43:\t\"ct_src_ltm\",\n",
    "44:\t\"ct_src_dport_ltm\",\n",
    "45:\t\"ct_dst_sport_ltm\",\n",
    "46:\t\"ct_dst_src_ltm\",\n",
    "47:\t\"attack_cat\",\n",
    "48:\t\"Label\",\n",
    "}"
   ]
  },
  {
   "cell_type": "code",
   "execution_count": 104,
   "metadata": {},
   "outputs": [
    {
     "name": "stderr",
     "output_type": "stream",
     "text": [
      "/home/manavjeet/.local/lib/python3.8/site-packages/IPython/core/interactiveshell.py:3145: DtypeWarning: Columns (1,3,47) have mixed types.Specify dtype option on import or set low_memory=False.\n",
      "  has_raised = await self.run_ast_nodes(code_ast.body, cell_name,\n"
     ]
    },
    {
     "name": "stdout",
     "output_type": "stream",
     "text": [
      "                0      1              2      3    4    5         6      7   \\\n",
      "0       59.166.0.0   1390  149.171.126.6     53  udp  CON  0.001055    132   \n",
      "1       59.166.0.0  33661  149.171.126.9   1024  udp  CON  0.036133    528   \n",
      "2       59.166.0.6   1464  149.171.126.7     53  udp  CON  0.001119    146   \n",
      "3       59.166.0.5   3593  149.171.126.5     53  udp  CON  0.001209    132   \n",
      "4       59.166.0.3  49664  149.171.126.0     53  udp  CON  0.001169    146   \n",
      "...            ...    ...            ...    ...  ...  ...       ...    ...   \n",
      "699996  59.166.0.8  12520  149.171.126.6  31010  tcp  FIN  0.020383    320   \n",
      "699997  59.166.0.0  18895  149.171.126.9     80  tcp  FIN  1.402957  19410   \n",
      "699998  59.166.0.0  30103  149.171.126.5   5190  tcp  FIN  0.007108   2158   \n",
      "699999  59.166.0.6  30388  149.171.126.5    111  udp  CON  0.004435    568   \n",
      "700000  59.166.0.0   6055  149.171.126.5  54145  tcp  FIN  0.072974   4238   \n",
      "\n",
      "             8   9   ...  39  40  41 42  43  44  45  46   47  48  \n",
      "0           164  31  ...   0   3   7  1   3   1   1   1  NaN   0  \n",
      "1           304  31  ...   0   2   4  2   3   1   1   2  NaN   0  \n",
      "2           178  31  ...   0  12   8  1   2   2   1   1  NaN   0  \n",
      "3           164  31  ...   0   6   9  1   1   1   1   1  NaN   0  \n",
      "4           178  31  ...   0   7   9  1   1   1   1   1  NaN   0  \n",
      "...         ...  ..  ...  ..  ..  .. ..  ..  ..  ..  ..  ...  ..  \n",
      "699996     1874  31  ...   0   8  20  7   5   1   1   4  NaN   0  \n",
      "699997  1087890  31  ...   0   1   1  2   7   2   2   2  NaN   0  \n",
      "699998     2464  31  ...   0  13  13  6   7   2   1   2  NaN   0  \n",
      "699999      304  31  ...   0  10  13  6   5   1   1   3  NaN   0  \n",
      "700000    60788  31  ...   0  13  13  6   7   1   1   2  NaN   0  \n",
      "\n",
      "[700001 rows x 49 columns]\n"
     ]
    }
   ],
   "source": [
    "dataset_1=pd.read_csv(\"../Dataset/UNSW-NB15_1.csv\", sep=',', header=None)\n",
    "print(dataset_1)"
   ]
  },
  {
   "cell_type": "markdown",
   "metadata": {},
   "source": [
    "#  1 Missing value \n",
    "1. Helps in dropping features with high value of missing percentage\n",
    "2. Can be added as (missing/not missing) feature"
   ]
  },
  {
   "cell_type": "code",
   "execution_count": 49,
   "metadata": {},
   "outputs": [
    {
     "name": "stdout",
     "output_type": "stream",
     "text": [
      "<class 'pandas.core.frame.DataFrame'>\n",
      "RangeIndex: 700001 entries, 0 to 700000\n",
      "Data columns (total 49 columns):\n",
      " #   Column  Non-Null Count   Dtype  \n",
      "---  ------  --------------   -----  \n",
      " 0   0       700001 non-null  object \n",
      " 1   1       700001 non-null  object \n",
      " 2   2       700001 non-null  object \n",
      " 3   3       700001 non-null  object \n",
      " 4   4       700001 non-null  object \n",
      " 5   5       700001 non-null  object \n",
      " 6   6       700001 non-null  float64\n",
      " 7   7       700001 non-null  int64  \n",
      " 8   8       700001 non-null  int64  \n",
      " 9   9       700001 non-null  int64  \n",
      " 10  10      700001 non-null  int64  \n",
      " 11  11      700001 non-null  int64  \n",
      " 12  12      700001 non-null  int64  \n",
      " 13  13      700001 non-null  object \n",
      " 14  14      700001 non-null  float64\n",
      " 15  15      700001 non-null  float64\n",
      " 16  16      700001 non-null  int64  \n",
      " 17  17      700001 non-null  int64  \n",
      " 18  18      700001 non-null  int64  \n",
      " 19  19      700001 non-null  int64  \n",
      " 20  20      700001 non-null  int64  \n",
      " 21  21      700001 non-null  int64  \n",
      " 22  22      700001 non-null  int64  \n",
      " 23  23      700001 non-null  int64  \n",
      " 24  24      700001 non-null  int64  \n",
      " 25  25      700001 non-null  int64  \n",
      " 26  26      700001 non-null  float64\n",
      " 27  27      700001 non-null  float64\n",
      " 28  28      700001 non-null  int64  \n",
      " 29  29      700001 non-null  int64  \n",
      " 30  30      700001 non-null  float64\n",
      " 31  31      700001 non-null  float64\n",
      " 32  32      700001 non-null  float64\n",
      " 33  33      700001 non-null  float64\n",
      " 34  34      700001 non-null  float64\n",
      " 35  35      700001 non-null  int64  \n",
      " 36  36      700001 non-null  int64  \n",
      " 37  37      700001 non-null  int64  \n",
      " 38  38      700001 non-null  int64  \n",
      " 39  39      700001 non-null  int64  \n",
      " 40  40      700001 non-null  int64  \n",
      " 41  41      700001 non-null  int64  \n",
      " 42  42      700001 non-null  int64  \n",
      " 43  43      700001 non-null  int64  \n",
      " 44  44      700001 non-null  int64  \n",
      " 45  45      700001 non-null  int64  \n",
      " 46  46      700001 non-null  int64  \n",
      " 47  47      22215 non-null   object \n",
      " 48  48      700001 non-null  int64  \n",
      "dtypes: float64(10), int64(31), object(8)\n",
      "memory usage: 261.7+ MB\n"
     ]
    }
   ],
   "source": [
    "dataset_1.info()"
   ]
  },
  {
   "cell_type": "markdown",
   "metadata": {},
   "source": [
    "The above info shows that feature 47(attack_category) has significantly less not-null values"
   ]
  },
  {
   "cell_type": "markdown",
   "metadata": {},
   "source": [
    "# 2 Amount of variation in a field\n",
    "If the variation is low, the feature will not help in learning\n",
    "\n",
    "\\begin{equation*}\n",
    "var = \\frac{1}{n} \\sum_{i=1}^n (x_i-\\mu)^2\n",
    "\\end{equation*}"
   ]
  },
  {
   "cell_type": "code",
   "execution_count": 130,
   "metadata": {},
   "outputs": [],
   "source": [
    "def getSdForDataFrame(dataset):\n",
    "    dev_list=[]\n",
    "    feature_list=[]\n",
    "    for i in features.keys():\n",
    "        if(dataset[i].to_numpy().dtype!=object):\n",
    "            std=np.std(dataset[i].to_numpy())\n",
    "            print(i,features[i],std) \n",
    "            dev_list.append(std)\n",
    "            feature_list.append(i)\n",
    "    return dev_list,feature_list"
   ]
  },
  {
   "cell_type": "code",
   "execution_count": 131,
   "metadata": {},
   "outputs": [
    {
     "name": "stdout",
     "output_type": "stream",
     "text": [
      "6 dur 25.935746096163648\n",
      "7 sbytes 44898.64802440861\n",
      "8 dbytes 186051.49094485486\n",
      "9 sttl 39.99692699377611\n",
      "10 dttl 30.45073483148317\n",
      "11 sloss 18.85596586773275\n",
      "12 dloss 64.73333025984192\n",
      "14 Sload 51814879.068348885\n",
      "15 Dload 4499949.075954355\n",
      "16 Spkts 80.19867191052059\n",
      "17 Dpkts 138.9352000828112\n",
      "18 swin 116.08964312682824\n",
      "19 dwin 116.21143423515011\n",
      "20 stcpb 1428406695.1775606\n",
      "21 dtcpb 1430192702.3521006\n",
      "22 smeansz 163.45659932573594\n",
      "23 dmeansz 346.40150590273004\n",
      "24 trans_depth 0.3116135613868189\n",
      "25 res_bdy_len 48662.02568247913\n",
      "26 Sjit 15495.026781117846\n",
      "27 Djit 5131.304742312564\n",
      "28 Stime 7914.423196258572\n",
      "29 Ltime 7914.673599462121\n",
      "30 Sintpkt 3410.623517303776\n",
      "31 Dintpkt 1746.176216201212\n",
      "32 tcprtt 0.027176471792417313\n",
      "33 synack 0.014880491134678783\n",
      "34 ackdat 0.013971437636477419\n",
      "35 is_sm_ips_ports 0.0499231911824735\n",
      "36 ct_state_ttl 0.37139630522092704\n",
      "37 ct_flw_http_mthd 0.8118416672511234\n",
      "38 is_ftp_login 0.13870030168660152\n",
      "39 ct_ftp_cmd 0.278211615741959\n",
      "40 ct_srv_src 5.075143441629619\n",
      "41 ct_srv_dst 4.635604332377284\n",
      "42 ct_dst_ltm 3.740436341364569\n",
      "43 ct_src_ltm 4.189663823968946\n",
      "44 ct_src_dport_ltm 1.8710509518428888\n",
      "45 ct_dst_sport_ltm 1.4260120068272784\n",
      "46 ct_dst_src_ltm 2.2111969978041595\n",
      "48 Label 0.17529551125285875\n"
     ]
    }
   ],
   "source": [
    "#For dataset part 1\n",
    "dev_list,feature_list=getSdForDataFrame(dataset_1)\n"
   ]
  },
  {
   "cell_type": "code",
   "execution_count": 139,
   "metadata": {},
   "outputs": [
    {
     "data": {
      "text/plain": [
       "<BarContainer object of 41 artists>"
      ]
     },
     "execution_count": 139,
     "metadata": {},
     "output_type": "execute_result"
    },
    {
     "data": {
      "image/png": "[encoded data removed]",
      "text/plain": [
       "<Figure size 432x288 with 1 Axes>"
      ]
     },
     "metadata": {
      "needs_background": "light"
     },
     "output_type": "display_data"
    }
   ],
   "source": [
    "plt.bar(feature_list,dev_list)"
   ]
  },
  {
   "cell_type": "markdown",
   "metadata": {},
   "source": [
    "## Observation\n",
    "From the above cell the standard deviation of each feature is different because dataset has not been normalized. Now calling the same function after normalizing."
   ]
  },
  {
   "cell_type": "code",
   "execution_count": 81,
   "metadata": {},
   "outputs": [],
   "source": [
    "from sklearn.preprocessing import MinMaxScaler"
   ]
  },
  {
   "cell_type": "code",
   "execution_count": 106,
   "metadata": {},
   "outputs": [],
   "source": [
    "\n",
    "    def minmaxNormalization(df,name):\n",
    "        \"\"\"\n",
    "        @args\n",
    "        df: dataframe\n",
    "        name: name of the column to be used in dataframe\n",
    "\n",
    "        This function uses max-min normalization to convert the range of values in column to 0-1.\n",
    "\n",
    "        @returns nothing\n",
    "        \"\"\"\n",
    "        arr=df[name].to_numpy()\n",
    "        toRet=np.zeros(df.shape[0])\n",
    "        # avg=np.average(arr)\n",
    "        s=max(arr)-min(arr)\n",
    "        mini=min(arr)\n",
    "        for i in range(arr.shape[0]):\n",
    "            toRet[i]=(arr[i]-mini)/s\n",
    "        return toRet"
   ]
  },
  {
   "cell_type": "code",
   "execution_count": 147,
   "metadata": {},
   "outputs": [],
   "source": [
    "def getSdForDataFrameNormalized(dataset):\n",
    "    dev_list=[]\n",
    "    feature_list=[]\n",
    "    for i in features.keys():\n",
    "        if(dataset[i].to_numpy().dtype!=object):\n",
    "            normalized=minmaxNormalization(dataset,i)\n",
    "            std=np.std(normalized)\n",
    "            print(i,features[i],std)\n",
    "            dev_list.append(std)\n",
    "            feature_list.append(i)\n",
    "    return dev_list,feature_list"
   ]
  },
  {
   "cell_type": "code",
   "execution_count": 148,
   "metadata": {},
   "outputs": [
    {
     "name": "stdout",
     "output_type": "stream",
     "text": [
      "6 dur 0.0029517259043151715\n",
      "7 sbytes 0.0032826904969688736\n",
      "8 dbytes 0.012695066332459516\n",
      "9 sttl 0.1568506940932397\n",
      "10 dttl 0.11988478280111484\n",
      "11 sloss 0.003700150288016631\n",
      "12 dloss 0.011806188265519227\n",
      "14 Sload 0.009835777629155244\n",
      "15 Dload 0.03494782956886344\n",
      "16 Spkts 0.007862614893188295\n",
      "17 Dpkts 0.012665013681204304\n",
      "18 swin 0.45525350245814994\n",
      "19 dwin 0.45573111464764754\n",
      "20 stcpb 0.3325782153287247\n",
      "21 dtcpb 0.33299547423176135\n",
      "22 smeansz 0.10868124955168613\n",
      "23 dmeansz 0.23093433726848672\n",
      "24 trans_depth 0.03895169517335236\n",
      "25 res_bdy_len 0.023582835590706615\n",
      "26 Sjit 0.013475202414555427\n",
      "27 Djit 0.006568312891334396\n",
      "28 Stime 0.27804051277915237\n",
      "29 Ltime 0.2784112002062093\n",
      "30 Sintpkt 0.05683432867938796\n",
      "31 Dintpkt 0.029354741912814994\n",
      "32 tcprtt 0.008229030444830273\n",
      "33 synack 0.007069365447848891\n",
      "34 ackdat 0.007541708664395254\n",
      "35 is_sm_ips_ports 0.0499231911824735\n",
      "36 ct_state_ttl 0.061899384203487805\n",
      "37 ct_flw_http_mthd 0.022551157423642314\n",
      "38 is_ftp_login 0.13870030168660152\n",
      "39 ct_ftp_cmd 0.03477645196774488\n",
      "40 ct_srv_src 0.11802659166580508\n",
      "41 ct_srv_dst 0.11306352030188502\n",
      "42 ct_dst_ltm 0.09123015466742854\n",
      "43 ct_src_ltm 0.08550334334630502\n",
      "44 ct_src_dport_ltm 0.053458598624082546\n",
      "45 ct_dst_sport_ltm 0.04321248505537207\n",
      "46 ct_dst_src_ltm 0.05976208102173405\n",
      "48 Label 0.17529551125285875\n"
     ]
    }
   ],
   "source": [
    "#For dataset part 1 (normalized)\n",
    "dev_list,feature_list=getSdForDataFrameNormalized(dataset_1)\n"
   ]
  },
  {
   "cell_type": "code",
   "execution_count": 149,
   "metadata": {},
   "outputs": [
    {
     "data": {
      "text/plain": [
       "<BarContainer object of 41 artists>"
      ]
     },
     "execution_count": 149,
     "metadata": {},
     "output_type": "execute_result"
    },
    {
     "data": {
      "image/png": "[encoded data removed]",
      "text/plain": [
       "<Figure size 432x288 with 1 Axes>"
      ]
     },
     "metadata": {
      "needs_background": "light"
     },
     "output_type": "display_data"
    }
   ],
   "source": [
    "plt.bar(feature_list,dev_list)"
   ]
  },
  {
   "cell_type": "markdown",
   "metadata": {},
   "source": [
    "# Corelated features\n",
    "If two features are highly corelated drop one of them."
   ]
  },
  {
   "cell_type": "markdown",
   "metadata": {},
   "source": [
    "# Filter Method\n",
    "https://www.youtube.com/watch?v=EqLBAmtKMnQ"
   ]
  },
  {
   "cell_type": "code",
   "execution_count": null,
   "metadata": {},
   "outputs": [],
   "source": [
    "#To do"
   ]
  }
 ],
 "metadata": {
  "kernelspec": {
   "display_name": "Python 3",
   "language": "python",
   "name": "python3"
  },
  "language_info": {
   "codemirror_mode": {
    "name": "ipython",
    "version": 3
   },
   "file_extension": ".py",
   "mimetype": "text/x-python",
   "name": "python",
   "nbconvert_exporter": "python",
   "pygments_lexer": "ipython3",
   "version": "3.8.2"
  }
 },
 "nbformat": 4,
 "nbformat_minor": 4
}
