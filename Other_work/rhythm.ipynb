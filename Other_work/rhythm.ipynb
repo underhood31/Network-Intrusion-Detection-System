{
  "nbformat": 4,
  "nbformat_minor": 0,
  "metadata": {
    "colab": {
      "name": "rhythm",
      "provenance": [],
      "collapsed_sections": []
    },
    "kernelspec": {
      "name": "python3",
      "display_name": "Python 3"
    }
  },
  "cells": [
    {
      "cell_type": "code",
      "metadata": {
        "id": "5NCmNMPtLt77"
      },
      "source": [
        "import pandas as pd"
      ],
      "execution_count": null,
      "outputs": []
    },
    {
      "cell_type": "code",
      "metadata": {
        "id": "YL6CVzRaKuXm",
        "colab": {
          "base_uri": "https://localhost:8080/",
          "height": 391
        },
        "outputId": "8baded09-c6dc-4cde-b65f-20a1510d5707"
      },
      "source": [
        "! wget \"https://www.unsw.adfa.edu.au/unsw-canberra-cyber/cybersecurity/ADFA-NB15-Datasets/a%20part%20of%20training%20and%20testing%20set/UNSW_NB15_training-set.csv\"\n",
        "!wget \"https://www.unsw.adfa.edu.au/unsw-canberra-cyber/cybersecurity/ADFA-NB15-Datasets/a%20part%20of%20training%20and%20testing%20set/UNSW_NB15_testing-set.csv\""
      ],
      "execution_count": null,
      "outputs": [
        {
          "output_type": "stream",
          "text": [
            "--2020-09-26 13:05:47--  https://www.unsw.adfa.edu.au/unsw-canberra-cyber/cybersecurity/ADFA-NB15-Datasets/a%20part%20of%20training%20and%20testing%20set/UNSW_NB15_training-set.csv\n",
            "Resolving www.unsw.adfa.edu.au (www.unsw.adfa.edu.au)... 202.58.60.197\n",
            "Connecting to www.unsw.adfa.edu.au (www.unsw.adfa.edu.au)|202.58.60.197|:443... connected.\n",
            "HTTP request sent, awaiting response... 200 OK\n",
            "Length: 32293018 (31M) [text/csv]\n",
            "Saving to: ‘UNSW_NB15_training-set.csv’\n",
            "\n",
            "UNSW_NB15_training- 100%[===================>]  30.80M   382KB/s    in 1m 44s  \n",
            "\n",
            "2020-09-26 13:07:32 (302 KB/s) - ‘UNSW_NB15_training-set.csv’ saved [32293018/32293018]\n",
            "\n",
            "--2020-09-26 13:07:32--  https://www.unsw.adfa.edu.au/unsw-canberra-cyber/cybersecurity/ADFA-NB15-Datasets/a%20part%20of%20training%20and%20testing%20set/UNSW_NB15_testing-set.csv\n",
            "Resolving www.unsw.adfa.edu.au (www.unsw.adfa.edu.au)... 202.58.60.197\n",
            "Connecting to www.unsw.adfa.edu.au (www.unsw.adfa.edu.au)|202.58.60.197|:443... connected.\n",
            "HTTP request sent, awaiting response... 200 OK\n",
            "Length: 15380800 (15M) [text/csv]\n",
            "Saving to: ‘UNSW_NB15_testing-set.csv’\n",
            "\n",
            "UNSW_NB15_testing-s 100%[===================>]  14.67M   304KB/s    in 58s     \n",
            "\n",
            "2020-09-26 13:08:31 (261 KB/s) - ‘UNSW_NB15_testing-set.csv’ saved [15380800/15380800]\n",
            "\n"
          ],
          "name": "stdout"
        }
      ]
    },
    {
      "cell_type": "code",
      "metadata": {
        "id": "6UKTm3GqLdqR",
        "colab": {
          "base_uri": "https://localhost:8080/",
          "height": 231
        },
        "outputId": "fe37348f-0b1f-441a-eec7-2082fdbbb6fd"
      },
      "source": [
        "trainSet = pd.read_csv('UNSW_NB15_training-set.csv')\n",
        "testSet = pd.read_csv('UNSW_NB15_testing-set.csv')\n",
        "# trainSet = pd.get_dummies(trainSet, columns=[\"proto\", \"service\", \"state\", \"attack_cat\"])\n",
        "# trainSet.drop(['id'])\n",
        "print(trainSet.columns)\n",
        "print(trainSet)\n",
        "# print(trainSet.head())\n",
        "# print(trainSet[0])"
      ],
      "execution_count": null,
      "outputs": [
        {
          "output_type": "error",
          "ename": "NameError",
          "evalue": "ignored",
          "traceback": [
            "\u001b[0;31m---------------------------------------------------------------------------\u001b[0m",
            "\u001b[0;31mNameError\u001b[0m                                 Traceback (most recent call last)",
            "\u001b[0;32m<ipython-input-1-7ee5340df401>\u001b[0m in \u001b[0;36m<module>\u001b[0;34m()\u001b[0m\n\u001b[0;32m----> 1\u001b[0;31m \u001b[0mtrainSet\u001b[0m \u001b[0;34m=\u001b[0m \u001b[0mpd\u001b[0m\u001b[0;34m.\u001b[0m\u001b[0mread_csv\u001b[0m\u001b[0;34m(\u001b[0m\u001b[0;34m'UNSW_NB15_training-set.csv'\u001b[0m\u001b[0;34m)\u001b[0m\u001b[0;34m\u001b[0m\u001b[0;34m\u001b[0m\u001b[0m\n\u001b[0m\u001b[1;32m      2\u001b[0m \u001b[0mtestSet\u001b[0m \u001b[0;34m=\u001b[0m \u001b[0mpd\u001b[0m\u001b[0;34m.\u001b[0m\u001b[0mread_csv\u001b[0m\u001b[0;34m(\u001b[0m\u001b[0;34m'UNSW_NB15_testing-set.csv'\u001b[0m\u001b[0;34m)\u001b[0m\u001b[0;34m\u001b[0m\u001b[0;34m\u001b[0m\u001b[0m\n\u001b[1;32m      3\u001b[0m \u001b[0;31m# trainSet = pd.get_dummies(trainSet, columns=[\"proto\", \"service\", \"state\", \"attack_cat\"])\u001b[0m\u001b[0;34m\u001b[0m\u001b[0;34m\u001b[0m\u001b[0;34m\u001b[0m\u001b[0m\n\u001b[1;32m      4\u001b[0m \u001b[0;31m# trainSet.drop(['id'])\u001b[0m\u001b[0;34m\u001b[0m\u001b[0;34m\u001b[0m\u001b[0;34m\u001b[0m\u001b[0m\n\u001b[1;32m      5\u001b[0m \u001b[0mprint\u001b[0m\u001b[0;34m(\u001b[0m\u001b[0mtrainSet\u001b[0m\u001b[0;34m.\u001b[0m\u001b[0mcolumns\u001b[0m\u001b[0;34m)\u001b[0m\u001b[0;34m\u001b[0m\u001b[0;34m\u001b[0m\u001b[0m\n",
            "\u001b[0;31mNameError\u001b[0m: name 'pd' is not defined"
          ]
        }
      ]
    },
    {
      "cell_type": "code",
      "metadata": {
        "id": "3azfPoe5MCeQ"
      },
      "source": [
        "trainSet_X = trainSet[[\"dur\", \"spkts\", \"sttl\", \"ct_dst_sport_ltm\", \"rate\", \"ct_state_ttl\", \"ct_srv_dst\", \"ct_srv_src\", \"ct_dst_src_ltm\", \"ct_src_ltm\", \"service\", \"proto\", \"ct_dst_ltm\"]]\n",
        "trainSet_X = pd.get_dummies(trainSet_X, columns=[\"proto\", \"service\"])\n",
        "trainSet_Y = trainSet[\"label\"]\n",
        "trainSet.info()"
      ],
      "execution_count": null,
      "outputs": []
    },
    {
      "cell_type": "code",
      "metadata": {
        "id": "VmqaO85FQHOx"
      },
      "source": [
        "testSet_X = testSet[[\"dur\", \"spkts\", \"sttl\", \"ct_dst_sport_ltm\", \"rate\", \"ct_state_ttl\", \"ct_srv_dst\", \"ct_srv_src\", \"ct_dst_src_ltm\", \"ct_src_ltm\", \"service\", \"proto\", \"ct_dst_ltm\"]]\n",
        "testSet_X = pd.get_dummies(testSet_X, columns=[\"proto\", \"service\"])\n",
        "testSet_Y = testSet[\"label\"]\n"
      ],
      "execution_count": null,
      "outputs": []
    },
    {
      "cell_type": "code",
      "metadata": {
        "id": "LmcAsq_DN_j8",
        "colab": {
          "base_uri": "https://localhost:8080/",
          "height": 34
        },
        "outputId": "4ad259ed-4a44-4c8c-f9b3-6d7ad0592875"
      },
      "source": [
        "#Import svm model\n",
        "from sklearn import svm\n",
        "\n",
        "#Create a svm Classifier\n",
        "clf = svm.SVC(kernel='linear', verbose=10) # Linear Kernel\n",
        "\n",
        "#Train the model using the training sets\n",
        "clf.fit(trainSet_X, trainSet_Y)\n",
        "print(\"Done Training\")\n",
        "#Predict the response for test dataset\n"
      ],
      "execution_count": null,
      "outputs": [
        {
          "output_type": "stream",
          "text": [
            "[LibSVM]"
          ],
          "name": "stdout"
        }
      ]
    },
    {
      "cell_type": "code",
      "metadata": {
        "id": "D7zhxHlNQkAz"
      },
      "source": [
        "y_pred = clf.predict(testSet_X)"
      ],
      "execution_count": null,
      "outputs": []
    },
    {
      "cell_type": "code",
      "metadata": {
        "id": "MBhwtR7jU_zF"
      },
      "source": [
        "from sklearn.metrics import classification_report, confusion_matrix\n",
        "print(confusion_matrix(testSet_Y,y_pred))\n",
        "print(classification_report(testSet_Y,y_pred))"
      ],
      "execution_count": null,
      "outputs": []
    },
    {
      "cell_type": "code",
      "metadata": {
        "id": "hrK53S6UTmgz"
      },
      "source": [
        "#Feature Selection  -  Low Variance \n",
        "\n",
        "from sklearn.feature_selection import VarianceThreshold\n",
        "X = trainSet_X\n",
        "sel = VarianceThreshold(threshold=(.8 * (1 - .8)))\n",
        "print(sel.fit_transform(X))\n",
        "\n",
        "\n"
      ],
      "execution_count": null,
      "outputs": []
    },
    {
      "cell_type": "code",
      "metadata": {
        "id": "qcWlMQp0Tmx0"
      },
      "source": [
        "#Feature Selection -  Univariate feature selection\n",
        "\n",
        "from sklearn.datasets import load_iris\n",
        "from sklearn.feature_selection import SelectKBest\n",
        "from sklearn.feature_selection import chi2\n",
        "X, y = trainSet_X , trainSet_Y\n",
        "X.shape\n",
        "X_new = SelectKBest(chi2, k=2).fit_transform(X, y)\n",
        "X_new.shape"
      ],
      "execution_count": null,
      "outputs": []
    },
    {
      "cell_type": "code",
      "metadata": {
        "id": "Ira09DtGYFcH"
      },
      "source": [
        "#Feature Selection -  L1 feature selection\n",
        "from sklearn.svm import LinearSVC\n",
        "from sklearn.feature_selection import SelectFromModel\n",
        "X, y = trainSet_X , trainSet_Y\n",
        "lsvc = LinearSVC(C=0.01, penalty=\"l1\", dual=False).fit(X, y)\n",
        "model = SelectFromModel(lsvc, prefit=True)\n",
        "X_new = model.transform(X)\n",
        "print(X_new.shape)"
      ],
      "execution_count": null,
      "outputs": []
    },
    {
      "cell_type": "code",
      "metadata": {
        "id": "GiKL2CL2Ya4B"
      },
      "source": [
        "#Feature Selection -  Tree based feature selection\n",
        "from sklearn.ensemble import ExtraTreesClassifier\n",
        "from sklearn.feature_selection import SelectFromModel\n",
        "X, y = trainSet_X , trainSet_Y\n",
        "clf = ExtraTreesClassifier(n_estimators=50)\n",
        "clf = clf.fit(X, y)\n",
        "print(clf.feature_importances_)\n",
        "model = SelectFromModel(clf, prefit=True)\n",
        "X_new = model.transform(X)\n",
        "print(X_new.shape) "
      ],
      "execution_count": null,
      "outputs": []
    }
  ]
}