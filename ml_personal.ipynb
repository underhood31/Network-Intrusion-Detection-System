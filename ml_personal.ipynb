{
  "nbformat": 4,
  "nbformat_minor": 0,
  "metadata": {
    "colab": {
      "name": "ml-personal.ipynb",
      "provenance": [],
      "collapsed_sections": []
    },
    "kernelspec": {
      "name": "python3",
      "display_name": "Python 3"
    }
  },
  "cells": [
    {
      "cell_type": "code",
      "metadata": {
        "id": "z5UXO4FH5EBS"
      },
      "source": [
        " "
      ],
      "execution_count": null,
      "outputs": []
    },
    {
      "cell_type": "code",
      "metadata": {
        "id": "5NCmNMPtLt77"
      },
      "source": [
        "import pandas as pd\n",
        "import numpy as np\n",
        "import seaborn as sns\n",
        "import matplotlib.pyplot as plt\n",
        "from sklearn.preprocessing import LabelEncoder\n",
        "from sklearn.metrics import accuracy_score\n",
        "from sklearn.metrics import classification_report, roc_auc_score, roc_curve\n",
        "\n",
        "%matplotlib inline"
      ],
      "execution_count": 1,
      "outputs": []
    },
    {
      "cell_type": "markdown",
      "metadata": {
        "id": "G5nqkRaovEMz"
      },
      "source": [
        "Download dataset\n",
        "\n"
      ]
    },
    {
      "cell_type": "code",
      "metadata": {
        "id": "YL6CVzRaKuXm",
        "colab": {
          "base_uri": "https://localhost:8080/"
        },
        "outputId": "175fe7f4-f29d-4e76-ddf1-b04719016472"
      },
      "source": [
        "! wget \"https://www.unsw.adfa.edu.au/unsw-canberra-cyber/cybersecurity/ADFA-NB15-Datasets/a%20part%20of%20training%20and%20testing%20set/UNSW_NB15_training-set.csv\"\n",
        "! wget \"https://www.unsw.adfa.edu.au/unsw-canberra-cyber/cybersecurity/ADFA-NB15-Datasets/a%20part%20of%20training%20and%20testing%20set/UNSW_NB15_testing-set.csv\""
      ],
      "execution_count": 2,
      "outputs": [
        {
          "output_type": "stream",
          "text": [
            "--2020-12-19 05:23:03--  https://www.unsw.adfa.edu.au/unsw-canberra-cyber/cybersecurity/ADFA-NB15-Datasets/a%20part%20of%20training%20and%20testing%20set/UNSW_NB15_training-set.csv\n",
            "Resolving www.unsw.adfa.edu.au (www.unsw.adfa.edu.au)... 202.58.60.197\n",
            "Connecting to www.unsw.adfa.edu.au (www.unsw.adfa.edu.au)|202.58.60.197|:443... connected.\n",
            "HTTP request sent, awaiting response... 200 OK\n",
            "Length: 32293018 (31M) [text/csv]\n",
            "Saving to: ‘UNSW_NB15_training-set.csv’\n",
            "\n",
            "UNSW_NB15_training- 100%[===================>]  30.80M   288KB/s    in 2m 17s  \n",
            "\n",
            "2020-12-19 05:25:21 (230 KB/s) - ‘UNSW_NB15_training-set.csv’ saved [32293018/32293018]\n",
            "\n",
            "--2020-12-19 05:25:21--  https://www.unsw.adfa.edu.au/unsw-canberra-cyber/cybersecurity/ADFA-NB15-Datasets/a%20part%20of%20training%20and%20testing%20set/UNSW_NB15_testing-set.csv\n",
            "Resolving www.unsw.adfa.edu.au (www.unsw.adfa.edu.au)... 202.58.60.197\n",
            "Connecting to www.unsw.adfa.edu.au (www.unsw.adfa.edu.au)|202.58.60.197|:443... connected.\n",
            "HTTP request sent, awaiting response... 200 OK\n",
            "Length: 15380800 (15M) [text/csv]\n",
            "Saving to: ‘UNSW_NB15_testing-set.csv’\n",
            "\n",
            "UNSW_NB15_testing-s 100%[===================>]  14.67M   236KB/s    in 77s     \n",
            "\n",
            "2020-12-19 05:26:39 (195 KB/s) - ‘UNSW_NB15_testing-set.csv’ saved [15380800/15380800]\n",
            "\n"
          ],
          "name": "stdout"
        }
      ]
    },
    {
      "cell_type": "code",
      "metadata": {
        "id": "6UKTm3GqLdqR",
        "colab": {
          "base_uri": "https://localhost:8080/"
        },
        "outputId": "914f27f5-d8fd-46eb-cec8-35d8e75c827f"
      },
      "source": [
        "trainSet = pd.read_csv('UNSW_NB15_training-set.csv')\n",
        "testSet = pd.read_csv('UNSW_NB15_testing-set.csv')\n",
        "\n",
        "print(trainSet.columns)\n",
        "print(trainSet)"
      ],
      "execution_count": 4,
      "outputs": [
        {
          "output_type": "stream",
          "text": [
            "Index(['id', 'dur', 'proto', 'service', 'state', 'spkts', 'dpkts', 'sbytes',\n",
            "       'dbytes', 'rate', 'sttl', 'dttl', 'sload', 'dload', 'sloss', 'dloss',\n",
            "       'sinpkt', 'dinpkt', 'sjit', 'djit', 'swin', 'stcpb', 'dtcpb', 'dwin',\n",
            "       'tcprtt', 'synack', 'ackdat', 'smean', 'dmean', 'trans_depth',\n",
            "       'response_body_len', 'ct_srv_src', 'ct_state_ttl', 'ct_dst_ltm',\n",
            "       'ct_src_dport_ltm', 'ct_dst_sport_ltm', 'ct_dst_src_ltm',\n",
            "       'is_ftp_login', 'ct_ftp_cmd', 'ct_flw_http_mthd', 'ct_src_ltm',\n",
            "       'ct_srv_dst', 'is_sm_ips_ports', 'attack_cat', 'label'],\n",
            "      dtype='object')\n",
            "            id       dur proto  ... is_sm_ips_ports attack_cat  label\n",
            "0            1  0.121478   tcp  ...               0     Normal      0\n",
            "1            2  0.649902   tcp  ...               0     Normal      0\n",
            "2            3  1.623129   tcp  ...               0     Normal      0\n",
            "3            4  1.681642   tcp  ...               0     Normal      0\n",
            "4            5  0.449454   tcp  ...               0     Normal      0\n",
            "...        ...       ...   ...  ...             ...        ...    ...\n",
            "175336  175337  0.000009   udp  ...               0    Generic      1\n",
            "175337  175338  0.505762   tcp  ...               0  Shellcode      1\n",
            "175338  175339  0.000009   udp  ...               0    Generic      1\n",
            "175339  175340  0.000009   udp  ...               0    Generic      1\n",
            "175340  175341  0.000009   udp  ...               0    Generic      1\n",
            "\n",
            "[175341 rows x 45 columns]\n"
          ],
          "name": "stdout"
        }
      ]
    },
    {
      "cell_type": "code",
      "metadata": {
        "colab": {
          "base_uri": "https://localhost:8080/",
          "height": 479
        },
        "id": "-go_jiIDnY90",
        "outputId": "5ff9632a-cc03-47a0-bace-620a5c281229"
      },
      "source": [
        "from sklearn.base import BaseEstimator, ClassifierMixin\n",
        "from sklearn.tree import DecisionTreeClassifier\n",
        "\n",
        "class myClassifier(BaseEstimator, ClassifierMixin):\n",
        "    def __init__(self, demo_param='demo'):\n",
        "        self.demo_param = demo_param\n",
        "        self.binary_tree = DecisionTreeClassifier()\n",
        "        self.multi_tree = DecisionTreeClassifier()\n",
        "\n",
        "        \n",
        "        self.myEncoder = None\n",
        "    \n",
        "    def transform(self, y):\n",
        "        return self.myEncoder.transform(y)\n",
        "\n",
        "    def fit(self, X, y):\n",
        "    \n",
        "        idx = y==\"Normal\"\n",
        "        yBin[idx] = 0\n",
        "        yBin[np.invert(idx)] = 1\n",
        "        yMulti = y[np.invert(idx)]\n",
        "        xMulti = X[np.invert(idx)]\n",
        "        self.binary_tree.fit(X,yBin)\n",
        "        self.multi_tree.fit(X,yMulti)\n",
        "\n",
        "    def predict(self, X):\n",
        "        y1 = self.binary_tree.predict(X)\n",
        "        idx = y1==1\n",
        "        X2 = X[idx]\n",
        "        y2 = self.multi_tree.predict(X2)\n",
        "\n",
        "abc = trainSet.label.values==1\n",
        "print(abc)\n",
        "trainSet[abc]"
      ],
      "execution_count": 9,
      "outputs": [
        {
          "output_type": "stream",
          "text": [
            "[False False False ...  True  True  True]\n"
          ],
          "name": "stdout"
        },
        {
          "output_type": "execute_result",
          "data": {
            "text/html": [
              "<div>\n",
              "<style scoped>\n",
              "    .dataframe tbody tr th:only-of-type {\n",
              "        vertical-align: middle;\n",
              "    }\n",
              "\n",
              "    .dataframe tbody tr th {\n",
              "        vertical-align: top;\n",
              "    }\n",
              "\n",
              "    .dataframe thead th {\n",
              "        text-align: right;\n",
              "    }\n",
              "</style>\n",
              "<table border=\"1\" class=\"dataframe\">\n",
              "  <thead>\n",
              "    <tr style=\"text-align: right;\">\n",
              "      <th></th>\n",
              "      <th>id</th>\n",
              "      <th>dur</th>\n",
              "      <th>proto</th>\n",
              "      <th>service</th>\n",
              "      <th>state</th>\n",
              "      <th>spkts</th>\n",
              "      <th>dpkts</th>\n",
              "      <th>sbytes</th>\n",
              "      <th>dbytes</th>\n",
              "      <th>rate</th>\n",
              "      <th>sttl</th>\n",
              "      <th>dttl</th>\n",
              "      <th>sload</th>\n",
              "      <th>dload</th>\n",
              "      <th>sloss</th>\n",
              "      <th>dloss</th>\n",
              "      <th>sinpkt</th>\n",
              "      <th>dinpkt</th>\n",
              "      <th>sjit</th>\n",
              "      <th>djit</th>\n",
              "      <th>swin</th>\n",
              "      <th>stcpb</th>\n",
              "      <th>dtcpb</th>\n",
              "      <th>dwin</th>\n",
              "      <th>tcprtt</th>\n",
              "      <th>synack</th>\n",
              "      <th>ackdat</th>\n",
              "      <th>smean</th>\n",
              "      <th>dmean</th>\n",
              "      <th>trans_depth</th>\n",
              "      <th>response_body_len</th>\n",
              "      <th>ct_srv_src</th>\n",
              "      <th>ct_state_ttl</th>\n",
              "      <th>ct_dst_ltm</th>\n",
              "      <th>ct_src_dport_ltm</th>\n",
              "      <th>ct_dst_sport_ltm</th>\n",
              "      <th>ct_dst_src_ltm</th>\n",
              "      <th>is_ftp_login</th>\n",
              "      <th>ct_ftp_cmd</th>\n",
              "      <th>ct_flw_http_mthd</th>\n",
              "      <th>ct_src_ltm</th>\n",
              "      <th>ct_srv_dst</th>\n",
              "      <th>is_sm_ips_ports</th>\n",
              "      <th>attack_cat</th>\n",
              "      <th>label</th>\n",
              "    </tr>\n",
              "  </thead>\n",
              "  <tbody>\n",
              "    <tr>\n",
              "      <th>47911</th>\n",
              "      <td>47912</td>\n",
              "      <td>0.000009</td>\n",
              "      <td>ddp</td>\n",
              "      <td>-</td>\n",
              "      <td>INT</td>\n",
              "      <td>2</td>\n",
              "      <td>0</td>\n",
              "      <td>200</td>\n",
              "      <td>0</td>\n",
              "      <td>111111.107200</td>\n",
              "      <td>254</td>\n",
              "      <td>0</td>\n",
              "      <td>8.888889e+07</td>\n",
              "      <td>0.000000</td>\n",
              "      <td>0</td>\n",
              "      <td>0</td>\n",
              "      <td>0.009000</td>\n",
              "      <td>0.00000</td>\n",
              "      <td>0.000000</td>\n",
              "      <td>0.000000</td>\n",
              "      <td>0</td>\n",
              "      <td>0</td>\n",
              "      <td>0</td>\n",
              "      <td>0</td>\n",
              "      <td>0.00000</td>\n",
              "      <td>0.000000</td>\n",
              "      <td>0.000000</td>\n",
              "      <td>100</td>\n",
              "      <td>0</td>\n",
              "      <td>0</td>\n",
              "      <td>0</td>\n",
              "      <td>4</td>\n",
              "      <td>2</td>\n",
              "      <td>1</td>\n",
              "      <td>1</td>\n",
              "      <td>1</td>\n",
              "      <td>4</td>\n",
              "      <td>0</td>\n",
              "      <td>0</td>\n",
              "      <td>0</td>\n",
              "      <td>2</td>\n",
              "      <td>4</td>\n",
              "      <td>0</td>\n",
              "      <td>Backdoor</td>\n",
              "      <td>1</td>\n",
              "    </tr>\n",
              "    <tr>\n",
              "      <th>47912</th>\n",
              "      <td>47913</td>\n",
              "      <td>0.000009</td>\n",
              "      <td>ipv6-frag</td>\n",
              "      <td>-</td>\n",
              "      <td>INT</td>\n",
              "      <td>2</td>\n",
              "      <td>0</td>\n",
              "      <td>200</td>\n",
              "      <td>0</td>\n",
              "      <td>111111.107200</td>\n",
              "      <td>254</td>\n",
              "      <td>0</td>\n",
              "      <td>8.888889e+07</td>\n",
              "      <td>0.000000</td>\n",
              "      <td>0</td>\n",
              "      <td>0</td>\n",
              "      <td>0.009000</td>\n",
              "      <td>0.00000</td>\n",
              "      <td>0.000000</td>\n",
              "      <td>0.000000</td>\n",
              "      <td>0</td>\n",
              "      <td>0</td>\n",
              "      <td>0</td>\n",
              "      <td>0</td>\n",
              "      <td>0.00000</td>\n",
              "      <td>0.000000</td>\n",
              "      <td>0.000000</td>\n",
              "      <td>100</td>\n",
              "      <td>0</td>\n",
              "      <td>0</td>\n",
              "      <td>0</td>\n",
              "      <td>7</td>\n",
              "      <td>2</td>\n",
              "      <td>2</td>\n",
              "      <td>2</td>\n",
              "      <td>2</td>\n",
              "      <td>7</td>\n",
              "      <td>0</td>\n",
              "      <td>0</td>\n",
              "      <td>0</td>\n",
              "      <td>2</td>\n",
              "      <td>7</td>\n",
              "      <td>0</td>\n",
              "      <td>Backdoor</td>\n",
              "      <td>1</td>\n",
              "    </tr>\n",
              "    <tr>\n",
              "      <th>47913</th>\n",
              "      <td>47914</td>\n",
              "      <td>0.000009</td>\n",
              "      <td>cftp</td>\n",
              "      <td>-</td>\n",
              "      <td>INT</td>\n",
              "      <td>2</td>\n",
              "      <td>0</td>\n",
              "      <td>200</td>\n",
              "      <td>0</td>\n",
              "      <td>111111.107200</td>\n",
              "      <td>254</td>\n",
              "      <td>0</td>\n",
              "      <td>8.888889e+07</td>\n",
              "      <td>0.000000</td>\n",
              "      <td>0</td>\n",
              "      <td>0</td>\n",
              "      <td>0.009000</td>\n",
              "      <td>0.00000</td>\n",
              "      <td>0.000000</td>\n",
              "      <td>0.000000</td>\n",
              "      <td>0</td>\n",
              "      <td>0</td>\n",
              "      <td>0</td>\n",
              "      <td>0</td>\n",
              "      <td>0.00000</td>\n",
              "      <td>0.000000</td>\n",
              "      <td>0.000000</td>\n",
              "      <td>100</td>\n",
              "      <td>0</td>\n",
              "      <td>0</td>\n",
              "      <td>0</td>\n",
              "      <td>6</td>\n",
              "      <td>2</td>\n",
              "      <td>1</td>\n",
              "      <td>1</td>\n",
              "      <td>1</td>\n",
              "      <td>6</td>\n",
              "      <td>0</td>\n",
              "      <td>0</td>\n",
              "      <td>0</td>\n",
              "      <td>1</td>\n",
              "      <td>6</td>\n",
              "      <td>0</td>\n",
              "      <td>Backdoor</td>\n",
              "      <td>1</td>\n",
              "    </tr>\n",
              "    <tr>\n",
              "      <th>47914</th>\n",
              "      <td>47915</td>\n",
              "      <td>0.000003</td>\n",
              "      <td>wsn</td>\n",
              "      <td>-</td>\n",
              "      <td>INT</td>\n",
              "      <td>2</td>\n",
              "      <td>0</td>\n",
              "      <td>200</td>\n",
              "      <td>0</td>\n",
              "      <td>333333.321500</td>\n",
              "      <td>254</td>\n",
              "      <td>0</td>\n",
              "      <td>2.666667e+08</td>\n",
              "      <td>0.000000</td>\n",
              "      <td>0</td>\n",
              "      <td>0</td>\n",
              "      <td>0.003000</td>\n",
              "      <td>0.00000</td>\n",
              "      <td>0.000000</td>\n",
              "      <td>0.000000</td>\n",
              "      <td>0</td>\n",
              "      <td>0</td>\n",
              "      <td>0</td>\n",
              "      <td>0</td>\n",
              "      <td>0.00000</td>\n",
              "      <td>0.000000</td>\n",
              "      <td>0.000000</td>\n",
              "      <td>100</td>\n",
              "      <td>0</td>\n",
              "      <td>0</td>\n",
              "      <td>0</td>\n",
              "      <td>6</td>\n",
              "      <td>2</td>\n",
              "      <td>2</td>\n",
              "      <td>2</td>\n",
              "      <td>2</td>\n",
              "      <td>7</td>\n",
              "      <td>0</td>\n",
              "      <td>0</td>\n",
              "      <td>0</td>\n",
              "      <td>2</td>\n",
              "      <td>6</td>\n",
              "      <td>0</td>\n",
              "      <td>Backdoor</td>\n",
              "      <td>1</td>\n",
              "    </tr>\n",
              "    <tr>\n",
              "      <th>47915</th>\n",
              "      <td>47916</td>\n",
              "      <td>0.000008</td>\n",
              "      <td>pvp</td>\n",
              "      <td>-</td>\n",
              "      <td>INT</td>\n",
              "      <td>2</td>\n",
              "      <td>0</td>\n",
              "      <td>200</td>\n",
              "      <td>0</td>\n",
              "      <td>125000.000300</td>\n",
              "      <td>254</td>\n",
              "      <td>0</td>\n",
              "      <td>1.000000e+08</td>\n",
              "      <td>0.000000</td>\n",
              "      <td>0</td>\n",
              "      <td>0</td>\n",
              "      <td>0.008000</td>\n",
              "      <td>0.00000</td>\n",
              "      <td>0.000000</td>\n",
              "      <td>0.000000</td>\n",
              "      <td>0</td>\n",
              "      <td>0</td>\n",
              "      <td>0</td>\n",
              "      <td>0</td>\n",
              "      <td>0.00000</td>\n",
              "      <td>0.000000</td>\n",
              "      <td>0.000000</td>\n",
              "      <td>100</td>\n",
              "      <td>0</td>\n",
              "      <td>0</td>\n",
              "      <td>0</td>\n",
              "      <td>4</td>\n",
              "      <td>2</td>\n",
              "      <td>1</td>\n",
              "      <td>1</td>\n",
              "      <td>1</td>\n",
              "      <td>4</td>\n",
              "      <td>0</td>\n",
              "      <td>0</td>\n",
              "      <td>0</td>\n",
              "      <td>11</td>\n",
              "      <td>4</td>\n",
              "      <td>0</td>\n",
              "      <td>Backdoor</td>\n",
              "      <td>1</td>\n",
              "    </tr>\n",
              "    <tr>\n",
              "      <th>...</th>\n",
              "      <td>...</td>\n",
              "      <td>...</td>\n",
              "      <td>...</td>\n",
              "      <td>...</td>\n",
              "      <td>...</td>\n",
              "      <td>...</td>\n",
              "      <td>...</td>\n",
              "      <td>...</td>\n",
              "      <td>...</td>\n",
              "      <td>...</td>\n",
              "      <td>...</td>\n",
              "      <td>...</td>\n",
              "      <td>...</td>\n",
              "      <td>...</td>\n",
              "      <td>...</td>\n",
              "      <td>...</td>\n",
              "      <td>...</td>\n",
              "      <td>...</td>\n",
              "      <td>...</td>\n",
              "      <td>...</td>\n",
              "      <td>...</td>\n",
              "      <td>...</td>\n",
              "      <td>...</td>\n",
              "      <td>...</td>\n",
              "      <td>...</td>\n",
              "      <td>...</td>\n",
              "      <td>...</td>\n",
              "      <td>...</td>\n",
              "      <td>...</td>\n",
              "      <td>...</td>\n",
              "      <td>...</td>\n",
              "      <td>...</td>\n",
              "      <td>...</td>\n",
              "      <td>...</td>\n",
              "      <td>...</td>\n",
              "      <td>...</td>\n",
              "      <td>...</td>\n",
              "      <td>...</td>\n",
              "      <td>...</td>\n",
              "      <td>...</td>\n",
              "      <td>...</td>\n",
              "      <td>...</td>\n",
              "      <td>...</td>\n",
              "      <td>...</td>\n",
              "      <td>...</td>\n",
              "    </tr>\n",
              "    <tr>\n",
              "      <th>175336</th>\n",
              "      <td>175337</td>\n",
              "      <td>0.000009</td>\n",
              "      <td>udp</td>\n",
              "      <td>dns</td>\n",
              "      <td>INT</td>\n",
              "      <td>2</td>\n",
              "      <td>0</td>\n",
              "      <td>114</td>\n",
              "      <td>0</td>\n",
              "      <td>111111.107200</td>\n",
              "      <td>254</td>\n",
              "      <td>0</td>\n",
              "      <td>5.066666e+07</td>\n",
              "      <td>0.000000</td>\n",
              "      <td>0</td>\n",
              "      <td>0</td>\n",
              "      <td>0.009000</td>\n",
              "      <td>0.00000</td>\n",
              "      <td>0.000000</td>\n",
              "      <td>0.000000</td>\n",
              "      <td>0</td>\n",
              "      <td>0</td>\n",
              "      <td>0</td>\n",
              "      <td>0</td>\n",
              "      <td>0.00000</td>\n",
              "      <td>0.000000</td>\n",
              "      <td>0.000000</td>\n",
              "      <td>57</td>\n",
              "      <td>0</td>\n",
              "      <td>0</td>\n",
              "      <td>0</td>\n",
              "      <td>24</td>\n",
              "      <td>2</td>\n",
              "      <td>24</td>\n",
              "      <td>24</td>\n",
              "      <td>13</td>\n",
              "      <td>24</td>\n",
              "      <td>0</td>\n",
              "      <td>0</td>\n",
              "      <td>0</td>\n",
              "      <td>24</td>\n",
              "      <td>24</td>\n",
              "      <td>0</td>\n",
              "      <td>Generic</td>\n",
              "      <td>1</td>\n",
              "    </tr>\n",
              "    <tr>\n",
              "      <th>175337</th>\n",
              "      <td>175338</td>\n",
              "      <td>0.505762</td>\n",
              "      <td>tcp</td>\n",
              "      <td>-</td>\n",
              "      <td>FIN</td>\n",
              "      <td>10</td>\n",
              "      <td>8</td>\n",
              "      <td>620</td>\n",
              "      <td>354</td>\n",
              "      <td>33.612649</td>\n",
              "      <td>254</td>\n",
              "      <td>252</td>\n",
              "      <td>8.826286e+03</td>\n",
              "      <td>4903.492188</td>\n",
              "      <td>2</td>\n",
              "      <td>1</td>\n",
              "      <td>54.400111</td>\n",
              "      <td>66.98057</td>\n",
              "      <td>3721.068786</td>\n",
              "      <td>120.177727</td>\n",
              "      <td>255</td>\n",
              "      <td>3518776216</td>\n",
              "      <td>3453092386</td>\n",
              "      <td>255</td>\n",
              "      <td>0.09944</td>\n",
              "      <td>0.036895</td>\n",
              "      <td>0.062545</td>\n",
              "      <td>62</td>\n",
              "      <td>44</td>\n",
              "      <td>0</td>\n",
              "      <td>0</td>\n",
              "      <td>1</td>\n",
              "      <td>1</td>\n",
              "      <td>1</td>\n",
              "      <td>1</td>\n",
              "      <td>1</td>\n",
              "      <td>2</td>\n",
              "      <td>0</td>\n",
              "      <td>0</td>\n",
              "      <td>0</td>\n",
              "      <td>1</td>\n",
              "      <td>1</td>\n",
              "      <td>0</td>\n",
              "      <td>Shellcode</td>\n",
              "      <td>1</td>\n",
              "    </tr>\n",
              "    <tr>\n",
              "      <th>175338</th>\n",
              "      <td>175339</td>\n",
              "      <td>0.000009</td>\n",
              "      <td>udp</td>\n",
              "      <td>dns</td>\n",
              "      <td>INT</td>\n",
              "      <td>2</td>\n",
              "      <td>0</td>\n",
              "      <td>114</td>\n",
              "      <td>0</td>\n",
              "      <td>111111.107200</td>\n",
              "      <td>254</td>\n",
              "      <td>0</td>\n",
              "      <td>5.066666e+07</td>\n",
              "      <td>0.000000</td>\n",
              "      <td>0</td>\n",
              "      <td>0</td>\n",
              "      <td>0.009000</td>\n",
              "      <td>0.00000</td>\n",
              "      <td>0.000000</td>\n",
              "      <td>0.000000</td>\n",
              "      <td>0</td>\n",
              "      <td>0</td>\n",
              "      <td>0</td>\n",
              "      <td>0</td>\n",
              "      <td>0.00000</td>\n",
              "      <td>0.000000</td>\n",
              "      <td>0.000000</td>\n",
              "      <td>57</td>\n",
              "      <td>0</td>\n",
              "      <td>0</td>\n",
              "      <td>0</td>\n",
              "      <td>12</td>\n",
              "      <td>2</td>\n",
              "      <td>3</td>\n",
              "      <td>3</td>\n",
              "      <td>3</td>\n",
              "      <td>13</td>\n",
              "      <td>0</td>\n",
              "      <td>0</td>\n",
              "      <td>0</td>\n",
              "      <td>3</td>\n",
              "      <td>12</td>\n",
              "      <td>0</td>\n",
              "      <td>Generic</td>\n",
              "      <td>1</td>\n",
              "    </tr>\n",
              "    <tr>\n",
              "      <th>175339</th>\n",
              "      <td>175340</td>\n",
              "      <td>0.000009</td>\n",
              "      <td>udp</td>\n",
              "      <td>dns</td>\n",
              "      <td>INT</td>\n",
              "      <td>2</td>\n",
              "      <td>0</td>\n",
              "      <td>114</td>\n",
              "      <td>0</td>\n",
              "      <td>111111.107200</td>\n",
              "      <td>254</td>\n",
              "      <td>0</td>\n",
              "      <td>5.066666e+07</td>\n",
              "      <td>0.000000</td>\n",
              "      <td>0</td>\n",
              "      <td>0</td>\n",
              "      <td>0.009000</td>\n",
              "      <td>0.00000</td>\n",
              "      <td>0.000000</td>\n",
              "      <td>0.000000</td>\n",
              "      <td>0</td>\n",
              "      <td>0</td>\n",
              "      <td>0</td>\n",
              "      <td>0</td>\n",
              "      <td>0.00000</td>\n",
              "      <td>0.000000</td>\n",
              "      <td>0.000000</td>\n",
              "      <td>57</td>\n",
              "      <td>0</td>\n",
              "      <td>0</td>\n",
              "      <td>0</td>\n",
              "      <td>30</td>\n",
              "      <td>2</td>\n",
              "      <td>30</td>\n",
              "      <td>30</td>\n",
              "      <td>14</td>\n",
              "      <td>30</td>\n",
              "      <td>0</td>\n",
              "      <td>0</td>\n",
              "      <td>0</td>\n",
              "      <td>30</td>\n",
              "      <td>30</td>\n",
              "      <td>0</td>\n",
              "      <td>Generic</td>\n",
              "      <td>1</td>\n",
              "    </tr>\n",
              "    <tr>\n",
              "      <th>175340</th>\n",
              "      <td>175341</td>\n",
              "      <td>0.000009</td>\n",
              "      <td>udp</td>\n",
              "      <td>dns</td>\n",
              "      <td>INT</td>\n",
              "      <td>2</td>\n",
              "      <td>0</td>\n",
              "      <td>114</td>\n",
              "      <td>0</td>\n",
              "      <td>111111.107200</td>\n",
              "      <td>254</td>\n",
              "      <td>0</td>\n",
              "      <td>5.066666e+07</td>\n",
              "      <td>0.000000</td>\n",
              "      <td>0</td>\n",
              "      <td>0</td>\n",
              "      <td>0.009000</td>\n",
              "      <td>0.00000</td>\n",
              "      <td>0.000000</td>\n",
              "      <td>0.000000</td>\n",
              "      <td>0</td>\n",
              "      <td>0</td>\n",
              "      <td>0</td>\n",
              "      <td>0</td>\n",
              "      <td>0.00000</td>\n",
              "      <td>0.000000</td>\n",
              "      <td>0.000000</td>\n",
              "      <td>57</td>\n",
              "      <td>0</td>\n",
              "      <td>0</td>\n",
              "      <td>0</td>\n",
              "      <td>30</td>\n",
              "      <td>2</td>\n",
              "      <td>30</td>\n",
              "      <td>30</td>\n",
              "      <td>16</td>\n",
              "      <td>30</td>\n",
              "      <td>0</td>\n",
              "      <td>0</td>\n",
              "      <td>0</td>\n",
              "      <td>30</td>\n",
              "      <td>30</td>\n",
              "      <td>0</td>\n",
              "      <td>Generic</td>\n",
              "      <td>1</td>\n",
              "    </tr>\n",
              "  </tbody>\n",
              "</table>\n",
              "<p>119341 rows × 45 columns</p>\n",
              "</div>"
            ],
            "text/plain": [
              "            id       dur      proto  ... is_sm_ips_ports attack_cat  label\n",
              "47911    47912  0.000009        ddp  ...               0   Backdoor      1\n",
              "47912    47913  0.000009  ipv6-frag  ...               0   Backdoor      1\n",
              "47913    47914  0.000009       cftp  ...               0   Backdoor      1\n",
              "47914    47915  0.000003        wsn  ...               0   Backdoor      1\n",
              "47915    47916  0.000008        pvp  ...               0   Backdoor      1\n",
              "...        ...       ...        ...  ...             ...        ...    ...\n",
              "175336  175337  0.000009        udp  ...               0    Generic      1\n",
              "175337  175338  0.505762        tcp  ...               0  Shellcode      1\n",
              "175338  175339  0.000009        udp  ...               0    Generic      1\n",
              "175339  175340  0.000009        udp  ...               0    Generic      1\n",
              "175340  175341  0.000009        udp  ...               0    Generic      1\n",
              "\n",
              "[119341 rows x 45 columns]"
            ]
          },
          "metadata": {
            "tags": []
          },
          "execution_count": 9
        }
      ]
    },
    {
      "cell_type": "code",
      "metadata": {
        "id": "775kk85uBk4b",
        "colab": {
          "base_uri": "https://localhost:8080/"
        },
        "outputId": "017fc096-4a09-4248-d924-1e0a92e34110"
      },
      "source": [
        "numerical_feat = [\"dur\" , \"sbytes\", \"dbytes\", \"sttl\", \"dttl\", \"sloss\", \"dloss\",  \"sload\", \"dload\", \"spkts\", \"dpkts\", \"swin\", \"dwin\", \"smean\", \"dmean\", \"trans_depth\", \"response_body_len\", \"sjit\", \"djit\", \"sinpkt\" , \"dinpkt\", \"tcprtt\", \"synack\", \"ackdat\", \"ct_state_ttl\", \"ct_flw_http_mthd\", \"ct_ftp_cmd\", \"ct_srv_src\", \"ct_srv_dst\", \"ct_dst_ltm\",\"ct_src_ltm\", \"ct_src_dport_ltm\", \"ct_dst_sport_ltm\", \"ct_dst_src_ltm\", \"rate\"]\n",
        "\n",
        "trainX = trainSet[numerical_feat]\n",
        "trainY = trainSet['label']\n",
        "\n",
        "from imblearn.under_sampling import NearMiss\n",
        "undersample = NearMiss(version=3, n_neighbors_ver3=3)\n",
        "# transform the dataset\n",
        "le = LabelEncoder()\n",
        "le.fit(trainY)\n",
        "# trainY = le.transform(trainY)\n",
        "\n",
        "\n",
        "from imblearn.under_sampling import TomekLinks\n",
        "undersample = TomekLinks()\n",
        "trainX, trainY = undersample.fit_resample(trainX, trainY)\n",
        "\n",
        "\n",
        "testX = testSet[numerical_feat]\n",
        "testY = testSet['label']\n",
        "# testY = le.transform(testY)"
      ],
      "execution_count": null,
      "outputs": [
        {
          "output_type": "stream",
          "text": [
            "/usr/local/lib/python3.6/dist-packages/sklearn/utils/deprecation.py:87: FutureWarning: Function safe_indexing is deprecated; safe_indexing is deprecated in version 0.22 and will be removed in version 0.24.\n",
            "  warnings.warn(msg, category=FutureWarning)\n"
          ],
          "name": "stderr"
        }
      ]
    },
    {
      "cell_type": "code",
      "metadata": {
        "id": "qFEZApEJC_j4",
        "colab": {
          "base_uri": "https://localhost:8080/"
        },
        "outputId": "a034a030-408a-46c3-a670-6e8c9970ee59"
      },
      "source": [
        "from sklearn.tree import DecisionTreeClassifier\n",
        "clf = DecisionTreeClassifier()\n",
        "from imblearn.ensemble import BalancedBaggingClassifier\n",
        "# clf = BalancedBaggingClassifier(DecisionTreeClassifier())\n",
        "clf.fit(trainX, trainY)"
      ],
      "execution_count": null,
      "outputs": [
        {
          "output_type": "stream",
          "text": [
            "/usr/local/lib/python3.6/dist-packages/sklearn/utils/deprecation.py:144: FutureWarning: The sklearn.ensemble.bagging module is  deprecated in version 0.22 and will be removed in version 0.24. The corresponding classes / functions should instead be imported from sklearn.ensemble. Anything that cannot be imported from sklearn.ensemble is now part of the private API.\n",
            "  warnings.warn(message, FutureWarning)\n",
            "/usr/local/lib/python3.6/dist-packages/sklearn/utils/deprecation.py:144: FutureWarning: The sklearn.ensemble.base module is  deprecated in version 0.22 and will be removed in version 0.24. The corresponding classes / functions should instead be imported from sklearn.ensemble. Anything that cannot be imported from sklearn.ensemble is now part of the private API.\n",
            "  warnings.warn(message, FutureWarning)\n",
            "/usr/local/lib/python3.6/dist-packages/sklearn/utils/deprecation.py:144: FutureWarning: The sklearn.ensemble.forest module is  deprecated in version 0.22 and will be removed in version 0.24. The corresponding classes / functions should instead be imported from sklearn.ensemble. Anything that cannot be imported from sklearn.ensemble is now part of the private API.\n",
            "  warnings.warn(message, FutureWarning)\n",
            "/usr/local/lib/python3.6/dist-packages/sklearn/externals/joblib/__init__.py:15: FutureWarning: sklearn.externals.joblib is deprecated in 0.21 and will be removed in 0.23. Please import this functionality directly from joblib, which can be installed with: pip install joblib. If this warning is raised when loading pickled models, you may need to re-serialize those models with scikit-learn 0.21+.\n",
            "  warnings.warn(msg, category=FutureWarning)\n"
          ],
          "name": "stderr"
        },
        {
          "output_type": "execute_result",
          "data": {
            "text/plain": [
              "DecisionTreeClassifier(ccp_alpha=0.0, class_weight=None, criterion='gini',\n",
              "                       max_depth=None, max_features=None, max_leaf_nodes=None,\n",
              "                       min_impurity_decrease=0.0, min_impurity_split=None,\n",
              "                       min_samples_leaf=1, min_samples_split=2,\n",
              "                       min_weight_fraction_leaf=0.0, presort='deprecated',\n",
              "                       random_state=None, splitter='best')"
            ]
          },
          "metadata": {
            "tags": []
          },
          "execution_count": 10
        }
      ]
    },
    {
      "cell_type": "code",
      "metadata": {
        "id": "CgGjhNwSkJeT"
      },
      "source": [
        ""
      ],
      "execution_count": null,
      "outputs": []
    },
    {
      "cell_type": "code",
      "metadata": {
        "id": "x30WcFwXDLMF",
        "colab": {
          "base_uri": "https://localhost:8080/"
        },
        "outputId": "2731007e-fdad-4b71-e6c5-c640fbfe2160"
      },
      "source": [
        "yhat = clf.predict(testX)\n",
        "print(accuracy_score(testY, yhat))"
      ],
      "execution_count": null,
      "outputs": [
        {
          "output_type": "stream",
          "text": [
            "0.8670626244959433\n"
          ],
          "name": "stdout"
        }
      ]
    },
    {
      "cell_type": "markdown",
      "metadata": {
        "id": "InxTfpN-mUpK"
      },
      "source": [
        "Binary Classification (Final)\n",
        "\n"
      ]
    },
    {
      "cell_type": "code",
      "metadata": {
        "colab": {
          "base_uri": "https://localhost:8080/"
        },
        "id": "iLwMScIUhN2x",
        "outputId": "2ffb117c-a74d-480e-e6c1-01050f97385d"
      },
      "source": [
        "numerical_feat = [\"dur\" , \"sbytes\", \"dbytes\", \"sttl\", \"dttl\", \"sloss\", \"dloss\",  \"sload\", \"dload\", \"spkts\", \"dpkts\", \"swin\", \"dwin\", \"smean\", \"dmean\", \"trans_depth\", \"response_body_len\", \"sjit\", \"djit\", \"sinpkt\" , \"dinpkt\", \"tcprtt\", \"synack\", \"ackdat\", \"ct_state_ttl\", \"ct_flw_http_mthd\", \"ct_ftp_cmd\", \"ct_srv_src\", \"ct_srv_dst\", \"ct_dst_ltm\",\"ct_src_ltm\", \"ct_src_dport_ltm\", \"ct_dst_sport_ltm\", \"ct_dst_src_ltm\", \"rate\"]\n",
        "# numerical_feat = [\"sttl\", \"dur\",\"spkts\", \"dpkts\", \"dttl\", \"sload\", \"dload\",\"sloss\", \"swin\" ,  \"dwin\", \"trans_depth\", \"response_body_len\", \"dmean\", \"sinpkt\", \"ct_state_ttl\", \"ct_srv_src\", \"ct_srv_dst\", \"ct_dst_ltm\", \"ct_src_ltm\", \"ct_src_dport_ltm\", \"ct_dst_sport_ltm\", \"ct_dst_src_ltm\"]\n",
        "# numerical_feat = [\"sttl\", \"dttl\", \"swin\", \"dwin\", \"dmean\", \"tcprtt\", \"ct_state_ttl\", \"ct_srv_src\", \"ct_srv_dst\", \"ct_dst_ltm\", \"ct_src_ltm\", \"ct_src_dport_ltm\", \"ct_dst_sport_ltm\", \"ct_dst_src_ltm\", \"rate\"]\n",
        "\n",
        "\n",
        "# numerical_feat = [\"sttl\", \"dur\",\"spkts\", \"dpkts\", \"dttl\",\"sloss\", \"swin\" ,  \"dwin\", \"trans_depth\", \"response_body_len\",  \"ct_state_ttl\",  \"ct_dst_sport_ltm\",  \"is_ftp_login\", \"ct_ftp_cmd\",\"ct_flw_http_mthd\" ,\"is_sm_ips_ports\"]\n",
        "\n",
        "categorical_feat = [\"proto\", \"state\", \"service\", \"is_sm_ips_ports\", \"is_ftp_login\"]\n",
        "\n",
        "trainX = trainSet[numerical_feat+categorical_feat]\n",
        "# trainX = trainSet[numerical_feat]\n",
        "\n",
        "testX = testSet[numerical_feat + categorical_feat]\n",
        "# testX = testSet[numerical_feat]\n",
        "\n",
        "trainY = trainSet['label']\n",
        "\n",
        "\n",
        "# transform the dataset\n",
        "# le = LabelEncoder()\n",
        "# le.fit(trainY)\n",
        "# trainY = le.transform(trainY)\n",
        "\n",
        "from category_encoders import TargetEncoder, LeaveOneOutEncoder\n",
        "encoder = TargetEncoder()\n",
        "trainX[categorical_feat] = encoder.fit_transform(trainX[categorical_feat], trainY)\n",
        "\n",
        "testX[categorical_feat] = encoder.transform(testX[categorical_feat])\n",
        "\n",
        "from imblearn.under_sampling import TomekLinks, RandomUnderSampler\n",
        "undersample = RandomUnderSampler()\n",
        "trainX, trainY = undersample.fit_resample(trainX, trainY)\n",
        "\n",
        "\n",
        "\n",
        "\n",
        "testY = testSet['label']\n",
        "\n",
        "from sklearn.tree import DecisionTreeClassifier\n",
        "clf1 = DecisionTreeClassifier(max_depth=20)\n",
        "clf1.fit(trainX, trainY)\n",
        "yhat = clf1.predict(testX)\n",
        "print(accuracy_score(testY, yhat))\n",
        "print(classification_report(testY, yhat))\n",
        "\n",
        "from sklearn.ensemble import RandomForestClassifier\n",
        "clf2 = RandomForestClassifier(class_weight = \"balanced_subsample\", n_estimators = 100)\n",
        "clf2.fit(trainX, trainY)\n",
        "yhat = clf2.predict(testX)\n",
        "print(accuracy_score(testY, yhat))\n",
        "print(classification_report(testY, yhat))\n"
      ],
      "execution_count": null,
      "outputs": [
        {
          "output_type": "stream",
          "text": [
            "/usr/local/lib/python3.6/dist-packages/category_encoders/utils.py:21: FutureWarning: is_categorical is deprecated and will be removed in a future version.  Use is_categorical_dtype instead\n",
            "  elif pd.api.types.is_categorical(cols):\n",
            "/usr/local/lib/python3.6/dist-packages/pandas/core/frame.py:3069: SettingWithCopyWarning: \n",
            "A value is trying to be set on a copy of a slice from a DataFrame.\n",
            "Try using .loc[row_indexer,col_indexer] = value instead\n",
            "\n",
            "See the caveats in the documentation: https://pandas.pydata.org/pandas-docs/stable/user_guide/indexing.html#returning-a-view-versus-a-copy\n",
            "  self[k1] = value[k2]\n",
            "/usr/local/lib/python3.6/dist-packages/sklearn/utils/deprecation.py:87: FutureWarning: Function safe_indexing is deprecated; safe_indexing is deprecated in version 0.22 and will be removed in version 0.24.\n",
            "  warnings.warn(msg, category=FutureWarning)\n"
          ],
          "name": "stderr"
        },
        {
          "output_type": "stream",
          "text": [
            "0.8912452023514551\n",
            "              precision    recall  f1-score   support\n",
            "\n",
            "           0       0.92      0.83      0.87     37000\n",
            "           1       0.87      0.94      0.91     45332\n",
            "\n",
            "    accuracy                           0.89     82332\n",
            "   macro avg       0.90      0.89      0.89     82332\n",
            "weighted avg       0.89      0.89      0.89     82332\n",
            "\n",
            "0.9071199533595686\n",
            "              precision    recall  f1-score   support\n",
            "\n",
            "           0       0.95      0.83      0.89     37000\n",
            "           1       0.88      0.97      0.92     45332\n",
            "\n",
            "    accuracy                           0.91     82332\n",
            "   macro avg       0.92      0.90      0.90     82332\n",
            "weighted avg       0.91      0.91      0.91     82332\n",
            "\n"
          ],
          "name": "stdout"
        }
      ]
    },
    {
      "cell_type": "markdown",
      "metadata": {
        "id": "FpBzi32EEA3M"
      },
      "source": [
        "Random Forest"
      ]
    },
    {
      "cell_type": "code",
      "metadata": {
        "colab": {
          "base_uri": "https://localhost:8080/"
        },
        "id": "7SlqhDfmD_1v",
        "outputId": "03484d27-96cd-408a-f936-958051db3771"
      },
      "source": [
        "numerical_feat = [\"dur\" , \"sbytes\", \"dbytes\", \"sttl\", \"dttl\", \"sloss\", \"dloss\",  \"sload\", \"dload\", \"spkts\", \"dpkts\", \"swin\", \"dwin\", \"smean\", \"dmean\", \"trans_depth\", \"response_body_len\", \"sjit\", \"djit\", \"sinpkt\" , \"dinpkt\", \"tcprtt\", \"synack\", \"ackdat\", \"ct_state_ttl\", \"ct_flw_http_mthd\", \"ct_ftp_cmd\", \"ct_srv_src\", \"ct_srv_dst\", \"ct_dst_ltm\",\"ct_src_ltm\", \"ct_src_dport_ltm\", \"ct_dst_sport_ltm\", \"ct_dst_src_ltm\", \"rate\"]\n",
        "# numerical_feat = [\"sttl\", \"dur\",\"spkts\", \"dpkts\", \"dttl\", \"sload\", \"dload\",\"sloss\", \"swin\" ,  \"dwin\", \"trans_depth\", \"response_body_len\", \"dmean\", \"sinpkt\", \"ct_state_ttl\", \"ct_srv_src\", \"ct_srv_dst\", \"ct_dst_ltm\", \"ct_src_ltm\", \"ct_src_dport_ltm\", \"ct_dst_sport_ltm\", \"ct_dst_src_ltm\"]\n",
        "# numerical_feat = [\"sttl\", \"dttl\", \"swin\", \"dwin\", \"dmean\", \"tcprtt\", \"ct_state_ttl\", \"ct_srv_src\", \"ct_srv_dst\", \"ct_dst_ltm\", \"ct_src_ltm\", \"ct_src_dport_ltm\", \"ct_dst_sport_ltm\", \"ct_dst_src_ltm\", \"rate\"]\n",
        "\n",
        "\n",
        "# numerical_feat = [\"sttl\", \"dur\",\"spkts\", \"dpkts\", \"dttl\",\"sloss\", \"swin\" ,  \"dwin\", \"trans_depth\", \"response_body_len\",  \"ct_state_ttl\",  \"ct_dst_sport_ltm\",  \"is_ftp_login\", \"ct_ftp_cmd\",\"ct_flw_http_mthd\" ,\"is_sm_ips_ports\"]\n",
        "\n",
        "categorical_feat = [\"proto\", \"state\", \"service\", \"is_sm_ips_ports\", \"is_ftp_login\"]\n",
        "\n",
        "trainX = trainSet[numerical_feat+categorical_feat]\n",
        "# trainX = trainSet[numerical_feat]\n",
        "\n",
        "testX = testSet[numerical_feat + categorical_feat]\n",
        "# testX = testSet[numerical_feat]\n",
        "\n",
        "trainY = trainSet['label']\n",
        "\n",
        "\n",
        "# transform the dataset\n",
        "# le = LabelEncoder()\n",
        "# le.fit(trainY)\n",
        "# trainY = le.transform(trainY)\n",
        "\n",
        "from category_encoders import TargetEncoder, LeaveOneOutEncoder\n",
        "encoder = TargetEncoder()\n",
        "trainX[categorical_feat] = encoder.fit_transform(trainX[categorical_feat], trainY)\n",
        "\n",
        "testX[categorical_feat] = encoder.transform(testX[categorical_feat])\n",
        "\n",
        "from imblearn.under_sampling import TomekLinks, RandomUnderSampler\n",
        "undersample = RandomUnderSampler()\n",
        "trainX, trainY = undersample.fit_resample(trainX, trainY)\n",
        "\n",
        "\n",
        "\n",
        "\n",
        "testY = testSet['label']\n",
        "\n",
        "from sklearn.ensemble import RandomForestClassifier\n",
        "clf2 = RandomForestClassifier(class_weight = \"balanced_subsample\", n_estimators = 100)\n",
        "clf2.fit(trainX, trainY)\n",
        "yhat = clf2.predict(testX)\n",
        "print(accuracy_score(testY, yhat))\n",
        "print(classification_report(testY, yhat))\n",
        "\n"
      ],
      "execution_count": null,
      "outputs": [
        {
          "output_type": "stream",
          "text": [
            "/usr/local/lib/python3.6/dist-packages/category_encoders/utils.py:21: FutureWarning: is_categorical is deprecated and will be removed in a future version.  Use is_categorical_dtype instead\n",
            "  elif pd.api.types.is_categorical(cols):\n",
            "/usr/local/lib/python3.6/dist-packages/pandas/core/frame.py:3069: SettingWithCopyWarning: \n",
            "A value is trying to be set on a copy of a slice from a DataFrame.\n",
            "Try using .loc[row_indexer,col_indexer] = value instead\n",
            "\n",
            "See the caveats in the documentation: https://pandas.pydata.org/pandas-docs/stable/user_guide/indexing.html#returning-a-view-versus-a-copy\n",
            "  self[k1] = value[k2]\n",
            "/usr/local/lib/python3.6/dist-packages/sklearn/utils/deprecation.py:87: FutureWarning: Function safe_indexing is deprecated; safe_indexing is deprecated in version 0.22 and will be removed in version 0.24.\n",
            "  warnings.warn(msg, category=FutureWarning)\n"
          ],
          "name": "stderr"
        },
        {
          "output_type": "stream",
          "text": [
            "0.9059296506826021\n",
            "              precision    recall  f1-score   support\n",
            "\n",
            "           0       0.95      0.83      0.89     37000\n",
            "           1       0.88      0.97      0.92     45332\n",
            "\n",
            "    accuracy                           0.91     82332\n",
            "   macro avg       0.91      0.90      0.90     82332\n",
            "weighted avg       0.91      0.91      0.91     82332\n",
            "\n"
          ],
          "name": "stdout"
        }
      ]
    },
    {
      "cell_type": "code",
      "metadata": {
        "colab": {
          "base_uri": "https://localhost:8080/",
          "height": 417
        },
        "id": "tvPBWVgFKXy0",
        "outputId": "616a3ac2-7305-4542-8640-ade881cec907"
      },
      "source": [
        "def roc_curve_details(prediction1, prediction2,y_test):\n",
        "    print(\"ROC Score for DT: \",roc_auc_score(y_test, prediction1))\n",
        "    print(\"ROC Score for RF: \",roc_auc_score(y_test, prediction2))\n",
        "    \n",
        "    fpr1, tpr1, _ = roc_curve(y_test, prediction1)\n",
        "    fpr2, tpr2, _ = roc_curve(y_test, prediction2)\n",
        "    \n",
        "    plt.plot(fpr1, tpr1, label = \"DT\")\n",
        "    plt.plot(fpr2, tpr2, label = \"RF\")\n",
        "    \n",
        "    plt.legend()\n",
        "    plt.xlabel('FPR')\n",
        "    plt.ylabel('TPR')\n",
        "    plt.title('ROC curve')\n",
        "    plt.show()\n",
        "\n",
        "y_pred1 = clf1.predict_proba(testX)\n",
        "y_pred2 = clf2.predict_proba(testX)\n",
        "import numpy as np\n",
        "print(y_pred1[50:80,1])\n",
        "roc_curve_details(y_pred1[:,1], y_pred2[:,1],testY)"
      ],
      "execution_count": null,
      "outputs": [
        {
          "output_type": "stream",
          "text": [
            "[0.12328767 0.1627907  0.         0.         0.         0.34042553\n",
            " 0.1627907  0.         0.         0.         0.         0.\n",
            " 0.         0.         0.         0.         0.1627907  0.\n",
            " 0.         0.         0.         0.         0.         0.\n",
            " 0.         0.         0.         0.02173913 0.         0.        ]\n",
            "ROC Score for DT:  0.9065172397757326\n",
            "ROC Score for RF:  0.9828426998647815\n"
          ],
          "name": "stdout"
        },
        {
          "output_type": "display_data",
          "data": {
            "image/png": "[encoded data removed]",
            "text/plain": [
              "<Figure size 432x288 with 1 Axes>"
            ]
          },
          "metadata": {
            "tags": [],
            "needs_background": "light"
          }
        }
      ]
    },
    {
      "cell_type": "markdown",
      "metadata": {
        "id": "-ggZJAa47t26"
      },
      "source": [
        "Multiclass Classification (Final)"
      ]
    },
    {
      "cell_type": "code",
      "metadata": {
        "colab": {
          "base_uri": "https://localhost:8080/",
          "height": 1000
        },
        "id": "3cA3CAWtcbbT",
        "outputId": "a40b8475-d177-4e24-d212-b992e7b0690f"
      },
      "source": [
        "numerical_feat = [\"dur\" , \"sbytes\", \"dbytes\", \"sttl\", \"dttl\", \"sloss\", \"dloss\",  \"sload\", \"dload\", \"spkts\", \"dpkts\", \"swin\", \"dwin\", \"smean\", \"dmean\", \"trans_depth\", \"response_body_len\", \"sjit\", \"djit\", \"sinpkt\" , \"dinpkt\", \"tcprtt\", \"synack\", \"ackdat\", \"ct_state_ttl\", \"ct_flw_http_mthd\", \"ct_ftp_cmd\", \"ct_srv_src\", \"ct_srv_dst\", \"ct_dst_ltm\",\"ct_src_ltm\", \"ct_src_dport_ltm\", \"ct_dst_sport_ltm\", \"ct_dst_src_ltm\", \"rate\"]\n",
        "# numerical_feat = [\"sttl\", \"dur\",\"spkts\", \"dpkts\", \"dttl\", \"sload\", \"dload\",\"sloss\", \"swin\" ,  \"dwin\", \"trans_depth\", \"response_body_len\", \"dmean\", \"sinpkt\", \"ct_state_ttl\", \"ct_srv_src\", \"ct_srv_dst\", \"ct_dst_ltm\", \"ct_src_ltm\", \"ct_src_dport_ltm\", \"ct_dst_sport_ltm\", \"ct_dst_src_ltm\"]\n",
        "# numerical_feat = [\"sttl\", \"dttl\", \"swin\", \"dwin\", \"dmean\", \"tcprtt\", \"ct_state_ttl\", \"ct_srv_src\", \"ct_srv_dst\", \"ct_dst_ltm\", \"ct_src_ltm\", \"ct_src_dport_ltm\", \"ct_dst_sport_ltm\", \"ct_dst_src_ltm\", \"rate\"]\n",
        "\n",
        "\n",
        "# numerical_feat = [\"sttl\", \"dur\",\"spkts\", \"dpkts\", \"dttl\",\"sloss\", \"swin\" ,  \"dwin\", \"trans_depth\", \"response_body_len\",  \"ct_state_ttl\",  \"ct_dst_sport_ltm\",  \"is_ftp_login\", \"ct_ftp_cmd\",\"ct_flw_http_mthd\" ,\"is_sm_ips_ports\"]\n",
        "\n",
        "categorical_feat = [\"proto\", \"state\", \"service\", \"is_sm_ips_ports\", \"is_ftp_login\"]\n",
        "\n",
        "trainX = trainSet[numerical_feat+categorical_feat]\n",
        "# trainX = trainSet[numerical_feat]\n",
        "\n",
        "testX = testSet[numerical_feat + categorical_feat]\n",
        "# testX = testSet[numerical_feat]\n",
        "\n",
        "trainY = trainSet['attack_cat']\n",
        "testY = testSet['attack_cat']\n",
        "\n",
        "# transform the dataset\n",
        "le = LabelEncoder()\n",
        "le.fit(trainY)\n",
        "trainY = le.transform(trainY)\n",
        "testY = le.transform(testY)\n",
        "from category_encoders import TargetEncoder, LeaveOneOutEncoder\n",
        "encoder = TargetEncoder()\n",
        "trainX[categorical_feat] = encoder.fit_transform(trainX[categorical_feat], trainY)\n",
        "\n",
        "testX[categorical_feat] = encoder.transform(testX[categorical_feat])\n",
        "\n",
        "from imblearn.under_sampling import TomekLinks, RandomUnderSampler\n",
        "undersample = TomekLinks()\n",
        "trainX, trainY = undersample.fit_resample(trainX, trainY)\n",
        "\n",
        "from sklearn.tree import DecisionTreeClassifier\n",
        "clf1 = DecisionTreeClassifier(max_depth=20)\n",
        "clf1.fit(trainX, trainY)\n",
        "yhat = clf1.predict(testX)\n",
        "print(accuracy_score(testY, yhat))\n",
        "print(classification_report(testY, yhat))\n",
        "\n",
        "from sklearn.ensemble import RandomForestClassifier\n",
        "clf2 = RandomForestClassifier(class_weight = \"balanced_subsample\", n_estimators = 100)\n",
        "clf2.fit(trainX, trainY)\n",
        "yhat = clf2.predict(testX)\n",
        "print(accuracy_score(testY, yhat))\n",
        "print(classification_report(testY, yhat))\n",
        "\n",
        "\n",
        "\n",
        "def roc_curve_details(prediction1, prediction2,y_test):\n",
        "    print(\"ROC Score for DT: \",roc_auc_score(y_test, prediction1))\n",
        "    print(\"ROC Score for RF: \",roc_auc_score(y_test, prediction2))\n",
        "    \n",
        "    fpr1, tpr1, _ = roc_curve(y_test, prediction1)\n",
        "    fpr2, tpr2, _ = roc_curve(y_test, prediction2)\n",
        "    \n",
        "    plt.plot(fpr1, tpr1, label = \"DT\")\n",
        "    plt.plot(fpr2, tpr2, label = \"RF\")\n",
        "    \n",
        "    plt.legend()\n",
        "    plt.xlabel('FPR')\n",
        "    plt.ylabel('TPR')\n",
        "    plt.title('ROC curve for multiclass classification')\n",
        "    plt.show()\n",
        "\n",
        "y_pred1 = clf1.predict_proba(testX)\n",
        "y_pred2 = clf2.predict_proba(testX)\n",
        "\n",
        "\n",
        "roc_curve_details(y_pred1, y_pred2,testY)"
      ],
      "execution_count": null,
      "outputs": [
        {
          "output_type": "stream",
          "text": [
            "/usr/local/lib/python3.6/dist-packages/category_encoders/utils.py:21: FutureWarning: is_categorical is deprecated and will be removed in a future version.  Use is_categorical_dtype instead\n",
            "  elif pd.api.types.is_categorical(cols):\n",
            "/usr/local/lib/python3.6/dist-packages/pandas/core/frame.py:3069: SettingWithCopyWarning: \n",
            "A value is trying to be set on a copy of a slice from a DataFrame.\n",
            "Try using .loc[row_indexer,col_indexer] = value instead\n",
            "\n",
            "See the caveats in the documentation: https://pandas.pydata.org/pandas-docs/stable/user_guide/indexing.html#returning-a-view-versus-a-copy\n",
            "  self[k1] = value[k2]\n",
            "/usr/local/lib/python3.6/dist-packages/sklearn/utils/deprecation.py:87: FutureWarning: Function safe_indexing is deprecated; safe_indexing is deprecated in version 0.22 and will be removed in version 0.24.\n",
            "  warnings.warn(msg, category=FutureWarning)\n"
          ],
          "name": "stderr"
        },
        {
          "output_type": "stream",
          "text": [
            "0.7450201622698344\n",
            "              precision    recall  f1-score   support\n",
            "\n",
            "           0       0.02      0.08      0.04       677\n",
            "           1       0.03      0.09      0.05       583\n",
            "           2       0.36      0.18      0.24      4089\n",
            "           3       0.62      0.76      0.69     11132\n",
            "           4       0.27      0.53      0.36      6062\n",
            "           5       0.99      0.98      0.98     18871\n",
            "           6       0.96      0.74      0.83     37000\n",
            "           7       0.92      0.80      0.85      3496\n",
            "           8       0.39      0.67      0.49       378\n",
            "           9       0.61      0.70      0.65        44\n",
            "\n",
            "    accuracy                           0.75     82332\n",
            "   macro avg       0.52      0.55      0.52     82332\n",
            "weighted avg       0.82      0.75      0.77     82332\n",
            "\n",
            "0.7499878540543167\n",
            "              precision    recall  f1-score   support\n",
            "\n",
            "           0       0.02      0.03      0.02       677\n",
            "           1       0.04      0.32      0.07       583\n",
            "           2       0.32      0.24      0.27      4089\n",
            "           3       0.73      0.67      0.70     11132\n",
            "           4       0.30      0.58      0.40      6062\n",
            "           5       1.00      0.97      0.98     18871\n",
            "           6       0.96      0.76      0.85     37000\n",
            "           7       0.93      0.79      0.86      3496\n",
            "           8       0.41      0.62      0.50       378\n",
            "           9       0.68      0.52      0.59        44\n",
            "\n",
            "    accuracy                           0.75     82332\n",
            "   macro avg       0.54      0.55      0.52     82332\n",
            "weighted avg       0.84      0.75      0.78     82332\n",
            "\n"
          ],
          "name": "stdout"
        },
        {
          "output_type": "error",
          "ename": "ValueError",
          "evalue": "ignored",
          "traceback": [
            "\u001b[0;31m---------------------------------------------------------------------------\u001b[0m",
            "\u001b[0;31mValueError\u001b[0m                                Traceback (most recent call last)",
            "\u001b[0;32m<ipython-input-100-51d532d87585>\u001b[0m in \u001b[0;36m<module>\u001b[0;34m()\u001b[0m\n\u001b[1;32m     68\u001b[0m \u001b[0;34m\u001b[0m\u001b[0m\n\u001b[1;32m     69\u001b[0m \u001b[0;34m\u001b[0m\u001b[0m\n\u001b[0;32m---> 70\u001b[0;31m \u001b[0mroc_curve_details\u001b[0m\u001b[0;34m(\u001b[0m\u001b[0my_pred1\u001b[0m\u001b[0;34m,\u001b[0m \u001b[0my_pred2\u001b[0m\u001b[0;34m,\u001b[0m\u001b[0mtestY\u001b[0m\u001b[0;34m)\u001b[0m\u001b[0;34m\u001b[0m\u001b[0;34m\u001b[0m\u001b[0m\n\u001b[0m",
            "\u001b[0;32m<ipython-input-100-51d532d87585>\u001b[0m in \u001b[0;36mroc_curve_details\u001b[0;34m(prediction1, prediction2, y_test)\u001b[0m\n\u001b[1;32m     49\u001b[0m \u001b[0;34m\u001b[0m\u001b[0m\n\u001b[1;32m     50\u001b[0m \u001b[0;32mdef\u001b[0m \u001b[0mroc_curve_details\u001b[0m\u001b[0;34m(\u001b[0m\u001b[0mprediction1\u001b[0m\u001b[0;34m,\u001b[0m \u001b[0mprediction2\u001b[0m\u001b[0;34m,\u001b[0m\u001b[0my_test\u001b[0m\u001b[0;34m)\u001b[0m\u001b[0;34m:\u001b[0m\u001b[0;34m\u001b[0m\u001b[0;34m\u001b[0m\u001b[0m\n\u001b[0;32m---> 51\u001b[0;31m     \u001b[0mprint\u001b[0m\u001b[0;34m(\u001b[0m\u001b[0;34m\"ROC Score for DT: \"\u001b[0m\u001b[0;34m,\u001b[0m\u001b[0mroc_auc_score\u001b[0m\u001b[0;34m(\u001b[0m\u001b[0my_test\u001b[0m\u001b[0;34m,\u001b[0m \u001b[0mprediction1\u001b[0m\u001b[0;34m)\u001b[0m\u001b[0;34m)\u001b[0m\u001b[0;34m\u001b[0m\u001b[0;34m\u001b[0m\u001b[0m\n\u001b[0m\u001b[1;32m     52\u001b[0m     \u001b[0mprint\u001b[0m\u001b[0;34m(\u001b[0m\u001b[0;34m\"ROC Score for RF: \"\u001b[0m\u001b[0;34m,\u001b[0m\u001b[0mroc_auc_score\u001b[0m\u001b[0;34m(\u001b[0m\u001b[0my_test\u001b[0m\u001b[0;34m,\u001b[0m \u001b[0mprediction2\u001b[0m\u001b[0;34m)\u001b[0m\u001b[0;34m)\u001b[0m\u001b[0;34m\u001b[0m\u001b[0;34m\u001b[0m\u001b[0m\n\u001b[1;32m     53\u001b[0m \u001b[0;34m\u001b[0m\u001b[0m\n",
            "\u001b[0;32m/usr/local/lib/python3.6/dist-packages/sklearn/metrics/_ranking.py\u001b[0m in \u001b[0;36mroc_auc_score\u001b[0;34m(y_true, y_score, average, sample_weight, max_fpr, multi_class, labels)\u001b[0m\n\u001b[1;32m    379\u001b[0m                              \"instead\".format(max_fpr))\n\u001b[1;32m    380\u001b[0m         \u001b[0;32mif\u001b[0m \u001b[0mmulti_class\u001b[0m \u001b[0;34m==\u001b[0m \u001b[0;34m'raise'\u001b[0m\u001b[0;34m:\u001b[0m\u001b[0;34m\u001b[0m\u001b[0;34m\u001b[0m\u001b[0m\n\u001b[0;32m--> 381\u001b[0;31m             \u001b[0;32mraise\u001b[0m \u001b[0mValueError\u001b[0m\u001b[0;34m(\u001b[0m\u001b[0;34m\"multi_class must be in ('ovo', 'ovr')\"\u001b[0m\u001b[0;34m)\u001b[0m\u001b[0;34m\u001b[0m\u001b[0;34m\u001b[0m\u001b[0m\n\u001b[0m\u001b[1;32m    382\u001b[0m         return _multiclass_roc_auc_score(y_true, y_score, labels,\n\u001b[1;32m    383\u001b[0m                                          multi_class, average, sample_weight)\n",
            "\u001b[0;31mValueError\u001b[0m: multi_class must be in ('ovo', 'ovr')"
          ]
        }
      ]
    },
    {
      "cell_type": "code",
      "metadata": {
        "colab": {
          "base_uri": "https://localhost:8080/",
          "height": 489
        },
        "id": "XaoI7Yl7Q41u",
        "outputId": "f6607fdd-84f5-49a0-f1b6-2d89cceb71e6"
      },
      "source": [
        "numerical_feat = [\"dur\" , \"sbytes\", \"dbytes\", \"sttl\", \"dttl\", \"sloss\", \"dloss\",  \"sload\", \"dload\", \"spkts\", \"dpkts\", \"swin\", \"dwin\", \"smean\", \"dmean\", \"trans_depth\", \"response_body_len\", \"sjit\", \"djit\", \"sinpkt\" , \"dinpkt\", \"tcprtt\", \"synack\", \"ackdat\", \"ct_state_ttl\", \"ct_flw_http_mthd\", \"ct_ftp_cmd\", \"ct_srv_src\", \"ct_srv_dst\", \"ct_dst_ltm\",\"ct_src_ltm\", \"ct_src_dport_ltm\", \"ct_dst_sport_ltm\", \"ct_dst_src_ltm\", \"rate\"]\n",
        "# numerical_feat = [\"sttl\", \"dur\",\"spkts\", \"dpkts\", \"dttl\", \"sload\", \"dload\",\"sloss\", \"swin\" ,  \"dwin\", \"trans_depth\", \"response_body_len\", \"dmean\", \"sinpkt\", \"ct_state_ttl\", \"ct_srv_src\", \"ct_srv_dst\", \"ct_dst_ltm\", \"ct_src_ltm\", \"ct_src_dport_ltm\", \"ct_dst_sport_ltm\", \"ct_dst_src_ltm\"]\n",
        "# numerical_feat = [\"sttl\", \"dttl\", \"swin\", \"dwin\", \"dmean\", \"tcprtt\", \"ct_state_ttl\", \"ct_srv_src\", \"ct_srv_dst\", \"ct_dst_ltm\", \"ct_src_ltm\", \"ct_src_dport_ltm\", \"ct_dst_sport_ltm\", \"ct_dst_src_ltm\", \"rate\"]\n",
        "\n",
        "\n",
        "# numerical_feat = [\"sttl\", \"dur\",\"spkts\", \"dpkts\", \"dttl\",\"sloss\", \"swin\" ,  \"dwin\", \"trans_depth\", \"response_body_len\",  \"ct_state_ttl\",  \"ct_dst_sport_ltm\",  \"is_ftp_login\", \"ct_ftp_cmd\",\"ct_flw_http_mthd\" ,\"is_sm_ips_ports\"]\n",
        "\n",
        "categorical_feat = [\"proto\", \"state\", \"service\", \"is_sm_ips_ports\", \"is_ftp_login\"]\n",
        "\n",
        "trainX = trainSet[numerical_feat+categorical_feat]\n",
        "# trainX = trainSet[numerical_feat]\n",
        "\n",
        "testX = testSet[numerical_feat + categorical_feat]\n",
        "# testX = testSet[numerical_feat]\n",
        "\n",
        "trainY = trainSet['attack_cat']\n",
        "testY = testSet['attack_cat']\n",
        "\n",
        "# transform the dataset\n",
        "le = LabelEncoder()\n",
        "le.fit(trainY)\n",
        "trainY = le.transform(trainY)\n",
        "testY = le.transform(testY)\n",
        "from category_encoders import TargetEncoder, LeaveOneOutEncoder\n",
        "encoder = TargetEncoder()\n",
        "trainX[categorical_feat] = encoder.fit_transform(trainX[categorical_feat], trainY)\n",
        "\n",
        "testX[categorical_feat] = encoder.transform(testX[categorical_feat])\n",
        "\n",
        "from imblearn.under_sampling import TomekLinks, RandomUnderSampler\n",
        "undersample = TomekLinks()\n",
        "trainX, trainY = undersample.fit_resample(trainX, trainY)\n",
        "\n",
        "\n",
        "\n",
        "from sklearn.tree import DecisionTreeClassifier\n",
        "\n",
        "hts = [20,40,60,80,100, None]\n",
        "\n",
        "acc = []\n",
        "acc2 = []\n",
        "for i in hts:\n",
        "    clf1 = DecisionTreeClassifier(max_depth = i)\n",
        "    clf1.fit(trainX, trainY)\n",
        "    yhat = clf1.predict(testX)\n",
        "    yhat2 = clf1.predict(trainX)\n",
        "    acc.append(accuracy_score(testY, yhat))\n",
        "    acc2.append(accuracy_score(trainY, yhat2))\n",
        "    \n",
        "hts[-1] = \"None\"\n",
        "plt.plot(hts, acc, label = \"Validation Accuracy\")\n",
        "plt.plot(hts, acc2, label = \"Training Accuracy\")\n",
        "plt.legend()\n",
        "plt.xlabel(\"Max Depth\")\n",
        "plt.ylabel(\"Accuracy\")\n",
        "plt.title(\"Decision Tree Depth\")\n",
        "plt.show()"
      ],
      "execution_count": null,
      "outputs": [
        {
          "output_type": "stream",
          "text": [
            "/usr/local/lib/python3.6/dist-packages/category_encoders/utils.py:21: FutureWarning: is_categorical is deprecated and will be removed in a future version.  Use is_categorical_dtype instead\n",
            "  elif pd.api.types.is_categorical(cols):\n",
            "/usr/local/lib/python3.6/dist-packages/pandas/core/frame.py:3069: SettingWithCopyWarning: \n",
            "A value is trying to be set on a copy of a slice from a DataFrame.\n",
            "Try using .loc[row_indexer,col_indexer] = value instead\n",
            "\n",
            "See the caveats in the documentation: https://pandas.pydata.org/pandas-docs/stable/user_guide/indexing.html#returning-a-view-versus-a-copy\n",
            "  self[k1] = value[k2]\n",
            "/usr/local/lib/python3.6/dist-packages/sklearn/utils/deprecation.py:87: FutureWarning: Function safe_indexing is deprecated; safe_indexing is deprecated in version 0.22 and will be removed in version 0.24.\n",
            "  warnings.warn(msg, category=FutureWarning)\n"
          ],
          "name": "stderr"
        },
        {
          "output_type": "display_data",
          "data": {
            "image/png": "[encoded data removed]",
            "text/plain": [
              "<Figure size 432x288 with 1 Axes>"
            ]
          },
          "metadata": {
            "tags": [],
            "needs_background": "light"
          }
        }
      ]
    },
    {
      "cell_type": "markdown",
      "metadata": {
        "id": "aFOjQX18kMaf"
      },
      "source": [
        "Multiclass classification"
      ]
    },
    {
      "cell_type": "code",
      "metadata": {
        "id": "V-bPV8ilkLW9",
        "colab": {
          "base_uri": "https://localhost:8080/"
        },
        "outputId": "8e0feb59-5580-4bd3-f73d-14ecb2a530db"
      },
      "source": [
        "numerical_feat = [\"dur\" , \"sbytes\", \"dbytes\", \"sttl\", \"dttl\", \"sloss\", \"dloss\",  \"sload\", \"dload\", \"spkts\", \"dpkts\", \"swin\", \"dwin\", \"smean\", \"dmean\", \"trans_depth\", \"response_body_len\", \"sjit\", \"djit\", \"sinpkt\" , \"dinpkt\", \"tcprtt\", \"synack\", \"ackdat\", \"ct_state_ttl\", \"ct_flw_http_mthd\", \"ct_ftp_cmd\", \"ct_srv_src\", \"ct_srv_dst\", \"ct_dst_ltm\",\"ct_src_ltm\", \"ct_src_dport_ltm\", \"ct_dst_sport_ltm\", \"ct_dst_src_ltm\", \"rate\"]\n",
        "# numerical_feat = [\"sttl\", \"dur\",\"spkts\", \"dpkts\", \"dttl\", \"sload\", \"dload\",\"sloss\", \"swin\" ,  \"dwin\", \"trans_depth\", \"response_body_len\", \"dmean\", \"sinpkt\", \"ct_state_ttl\", \"ct_srv_src\", \"ct_srv_dst\", \"ct_dst_ltm\", \"ct_src_ltm\", \"ct_src_dport_ltm\", \"ct_dst_sport_ltm\", \"ct_dst_src_ltm\"]\n",
        "# numerical_feat = [\"sttl\", \"dttl\", \"swin\", \"dwin\", \"dmean\", \"tcprtt\", \"ct_state_ttl\", \"ct_srv_src\", \"ct_srv_dst\", \"ct_dst_ltm\", \"ct_src_ltm\", \"ct_src_dport_ltm\", \"ct_dst_sport_ltm\", \"ct_dst_src_ltm\", \"rate\"]\n",
        "\n",
        "\n",
        "# numerical_feat = [\"sttl\", \"dur\",\"spkts\", \"dpkts\", \"dttl\",\"sloss\", \"swin\" ,  \"dwin\", \"trans_depth\", \"response_body_len\",  \"ct_state_ttl\",  \"ct_dst_sport_ltm\",  \"is_ftp_login\", \"ct_ftp_cmd\",\"ct_flw_http_mthd\" ,\"is_sm_ips_ports\"]\n",
        "\n",
        "categorical_feat = [\"proto\", \"state\", \"service\", \"is_sm_ips_ports\", \"is_ftp_login\"]\n",
        "\n",
        "trainX = trainSet[numerical_feat+categorical_feat]\n",
        "# trainX = trainSet[numerical_feat]\n",
        "\n",
        "testX = testSet[numerical_feat + categorical_feat]\n",
        "# testX = testSet[numerical_feat]\n",
        "\n",
        "trainY = trainSet['attack_cat']\n",
        "testY = testSet['attack_cat']\n",
        "\n",
        "# transform the dataset\n",
        "le = LabelEncoder()\n",
        "le.fit(trainY)\n",
        "trainY = le.transform(trainY)\n",
        "testY = le.transform(testY)\n",
        "from category_encoders import TargetEncoder, LeaveOneOutEncoder\n",
        "encoder = TargetEncoder()\n",
        "trainX[categorical_feat] = encoder.fit_transform(trainX[categorical_feat], trainY)\n",
        "\n",
        "testX[categorical_feat] = encoder.transform(testX[categorical_feat])\n",
        "\n",
        "from imblearn.under_sampling import TomekLinks, RandomUnderSampler\n",
        "undersample = RandomUnderSampler()\n",
        "trainX, trainY = undersample.fit_resample(trainX, trainY)\n",
        "\n",
        "\n",
        "\n",
        "\n",
        "\n",
        "\n",
        "from sklearn.ensemble import RandomForestClassifier\n",
        "clf = RandomForestClassifier(class_weight = \"balanced_subsample\", n_estimators = 100)\n",
        "clf.fit(trainX, trainY)\n",
        "yhat = clf.predict(testX)\n",
        "print(accuracy_score(testY, yhat))\n",
        "print(classification_report(testY, yhat))\n",
        "\n"
      ],
      "execution_count": null,
      "outputs": [
        {
          "output_type": "stream",
          "text": [
            "/usr/local/lib/python3.6/dist-packages/category_encoders/utils.py:21: FutureWarning: is_categorical is deprecated and will be removed in a future version.  Use is_categorical_dtype instead\n",
            "  elif pd.api.types.is_categorical(cols):\n",
            "/usr/local/lib/python3.6/dist-packages/pandas/core/frame.py:3069: SettingWithCopyWarning: \n",
            "A value is trying to be set on a copy of a slice from a DataFrame.\n",
            "Try using .loc[row_indexer,col_indexer] = value instead\n",
            "\n",
            "See the caveats in the documentation: https://pandas.pydata.org/pandas-docs/stable/user_guide/indexing.html#returning-a-view-versus-a-copy\n",
            "  self[k1] = value[k2]\n",
            "/usr/local/lib/python3.6/dist-packages/sklearn/utils/deprecation.py:87: FutureWarning: Function safe_indexing is deprecated; safe_indexing is deprecated in version 0.22 and will be removed in version 0.24.\n",
            "  warnings.warn(msg, category=FutureWarning)\n"
          ],
          "name": "stderr"
        },
        {
          "output_type": "stream",
          "text": [
            "0.6180221542049263\n",
            "              precision    recall  f1-score   support\n",
            "\n",
            "           0       0.04      0.35      0.07       677\n",
            "           1       0.07      0.44      0.12       583\n",
            "           2       0.27      0.12      0.17      4089\n",
            "           3       0.74      0.51      0.60     11132\n",
            "           4       0.20      0.56      0.29      6062\n",
            "           5       0.99      0.93      0.96     18871\n",
            "           6       0.99      0.54      0.70     37000\n",
            "           7       0.80      0.82      0.81      3496\n",
            "           8       0.11      0.89      0.20       378\n",
            "           9       0.03      0.84      0.05        44\n",
            "\n",
            "    accuracy                           0.62     82332\n",
            "   macro avg       0.42      0.60      0.40     82332\n",
            "weighted avg       0.84      0.62      0.68     82332\n",
            "\n"
          ],
          "name": "stdout"
        }
      ]
    },
    {
      "cell_type": "markdown",
      "metadata": {
        "id": "qE-ROKy1JUpT"
      },
      "source": [
        "DT: Multiclass"
      ]
    },
    {
      "cell_type": "code",
      "metadata": {
        "colab": {
          "base_uri": "https://localhost:8080/"
        },
        "id": "X1-h1uEWJLlT",
        "outputId": "f55a8aff-1506-4537-fb57-68ab7be2e6da"
      },
      "source": [
        "numerical_feat = [\"dur\" , \"sbytes\", \"dbytes\", \"sttl\", \"dttl\", \"sloss\", \"dloss\",  \"sload\", \"dload\", \"spkts\", \"dpkts\", \"swin\", \"dwin\", \"smean\", \"dmean\", \"trans_depth\", \"response_body_len\", \"sjit\", \"djit\", \"sinpkt\" , \"dinpkt\", \"tcprtt\", \"synack\", \"ackdat\", \"ct_state_ttl\", \"ct_flw_http_mthd\", \"ct_ftp_cmd\", \"ct_srv_src\", \"ct_srv_dst\", \"ct_dst_ltm\",\"ct_src_ltm\", \"ct_src_dport_ltm\", \"ct_dst_sport_ltm\", \"ct_dst_src_ltm\", \"rate\"]\n",
        "# numerical_feat = [\"sttl\", \"dur\",\"spkts\", \"dpkts\", \"dttl\", \"sload\", \"dload\",\"sloss\", \"swin\" ,  \"dwin\", \"trans_depth\", \"response_body_len\", \"dmean\", \"sinpkt\", \"ct_state_ttl\", \"ct_srv_src\", \"ct_srv_dst\", \"ct_dst_ltm\", \"ct_src_ltm\", \"ct_src_dport_ltm\", \"ct_dst_sport_ltm\", \"ct_dst_src_ltm\"]\n",
        "# numerical_feat = [\"sttl\", \"dttl\", \"swin\", \"dwin\", \"dmean\", \"tcprtt\", \"ct_state_ttl\", \"ct_srv_src\", \"ct_srv_dst\", \"ct_dst_ltm\", \"ct_src_ltm\", \"ct_src_dport_ltm\", \"ct_dst_sport_ltm\", \"ct_dst_src_ltm\", \"rate\"]\n",
        "\n",
        "\n",
        "# numerical_feat = [\"sttl\", \"dur\",\"spkts\", \"dpkts\", \"dttl\",\"sloss\", \"swin\" ,  \"dwin\", \"trans_depth\", \"response_body_len\",  \"ct_state_ttl\",  \"ct_dst_sport_ltm\",  \"is_ftp_login\", \"ct_ftp_cmd\",\"ct_flw_http_mthd\" ,\"is_sm_ips_ports\"]\n",
        "\n",
        "categorical_feat = [\"proto\", \"state\", \"service\", \"is_sm_ips_ports\", \"is_ftp_login\"]\n",
        "\n",
        "trainX = trainSet[numerical_feat+categorical_feat]\n",
        "# trainX = trainSet[numerical_feat]\n",
        "\n",
        "testX = testSet[numerical_feat + categorical_feat]\n",
        "# testX = testSet[numerical_feat]\n",
        "\n",
        "trainY = trainSet['attack_cat']\n",
        "testY = testSet['attack_cat']\n",
        "\n",
        "# transform the dataset\n",
        "le = LabelEncoder()\n",
        "le.fit(trainY)\n",
        "trainY = le.transform(trainY)\n",
        "testY = le.transform(testY)\n",
        "from category_encoders import TargetEncoder, LeaveOneOutEncoder\n",
        "encoder = TargetEncoder()\n",
        "trainX[categorical_feat] = encoder.fit_transform(trainX[categorical_feat], trainY)\n",
        "\n",
        "testX[categorical_feat] = encoder.transform(testX[categorical_feat])\n",
        "\n",
        "from imblearn.under_sampling import TomekLinks, RandomUnderSampler\n",
        "undersample = RandomUnderSampler()\n",
        "trainX, trainY = undersample.fit_resample(trainX, trainY)\n",
        "\n",
        "\n",
        "\n",
        "\n",
        "\n",
        "\n",
        "from sklearn.tree import DecisionTreeClassifier\n",
        "clf = DecisionTreeClassifier()\n",
        "clf.fit(trainX, trainY)\n",
        "yhat = clf.predict(testX)\n",
        "print(accuracy_score(testY, yhat))\n",
        "print(classification_report(testY, yhat))\n",
        "\n"
      ],
      "execution_count": null,
      "outputs": [
        {
          "output_type": "stream",
          "text": [
            "/usr/local/lib/python3.6/dist-packages/category_encoders/utils.py:21: FutureWarning: is_categorical is deprecated and will be removed in a future version.  Use is_categorical_dtype instead\n",
            "  elif pd.api.types.is_categorical(cols):\n",
            "/usr/local/lib/python3.6/dist-packages/pandas/core/frame.py:3069: SettingWithCopyWarning: \n",
            "A value is trying to be set on a copy of a slice from a DataFrame.\n",
            "Try using .loc[row_indexer,col_indexer] = value instead\n",
            "\n",
            "See the caveats in the documentation: https://pandas.pydata.org/pandas-docs/stable/user_guide/indexing.html#returning-a-view-versus-a-copy\n",
            "  self[k1] = value[k2]\n",
            "/usr/local/lib/python3.6/dist-packages/sklearn/utils/deprecation.py:87: FutureWarning: Function safe_indexing is deprecated; safe_indexing is deprecated in version 0.22 and will be removed in version 0.24.\n",
            "  warnings.warn(msg, category=FutureWarning)\n"
          ],
          "name": "stderr"
        },
        {
          "output_type": "stream",
          "text": [
            "0.654897245299519\n",
            "              precision    recall  f1-score   support\n",
            "\n",
            "           0       0.02      0.12      0.04       677\n",
            "           1       0.05      0.26      0.08       583\n",
            "           2       0.23      0.20      0.21      4089\n",
            "           3       0.61      0.42      0.50     11132\n",
            "           4       0.24      0.46      0.32      6062\n",
            "           5       0.96      0.94      0.95     18871\n",
            "           6       0.96      0.66      0.78     37000\n",
            "           7       0.71      0.80      0.76      3496\n",
            "           8       0.10      0.93      0.18       378\n",
            "           9       0.04      0.91      0.07        44\n",
            "\n",
            "    accuracy                           0.65     82332\n",
            "   macro avg       0.39      0.57      0.39     82332\n",
            "weighted avg       0.79      0.65      0.70     82332\n",
            "\n"
          ],
          "name": "stdout"
        }
      ]
    },
    {
      "cell_type": "code",
      "metadata": {
        "id": "OHPSJZiL3AoW",
        "colab": {
          "base_uri": "https://localhost:8080/"
        },
        "outputId": "a4df5a06-0456-4630-cccf-2bba2796d546"
      },
      "source": [
        "! pip3 install category_encoders"
      ],
      "execution_count": null,
      "outputs": [
        {
          "output_type": "stream",
          "text": [
            "Collecting category_encoders\n",
            "\u001b[?25l  Downloading https://files.pythonhosted.org/packages/44/57/fcef41c248701ee62e8325026b90c432adea35555cbc870aff9cfba23727/category_encoders-2.2.2-py2.py3-none-any.whl (80kB)\n",
            "\r\u001b[K     |████                            | 10kB 17.4MB/s eta 0:00:01\r\u001b[K     |████████▏                       | 20kB 9.5MB/s eta 0:00:01\r\u001b[K     |████████████▏                   | 30kB 7.8MB/s eta 0:00:01\r\u001b[K     |████████████████▎               | 40kB 7.0MB/s eta 0:00:01\r\u001b[K     |████████████████████▎           | 51kB 3.9MB/s eta 0:00:01\r\u001b[K     |████████████████████████▍       | 61kB 4.5MB/s eta 0:00:01\r\u001b[K     |████████████████████████████▍   | 71kB 4.7MB/s eta 0:00:01\r\u001b[K     |████████████████████████████████| 81kB 3.5MB/s \n",
            "\u001b[?25hRequirement already satisfied: numpy>=1.14.0 in /usr/local/lib/python3.6/dist-packages (from category_encoders) (1.18.5)\n",
            "Requirement already satisfied: statsmodels>=0.9.0 in /usr/local/lib/python3.6/dist-packages (from category_encoders) (0.10.2)\n",
            "Requirement already satisfied: scikit-learn>=0.20.0 in /usr/local/lib/python3.6/dist-packages (from category_encoders) (0.22.2.post1)\n",
            "Requirement already satisfied: patsy>=0.5.1 in /usr/local/lib/python3.6/dist-packages (from category_encoders) (0.5.1)\n",
            "Requirement already satisfied: pandas>=0.21.1 in /usr/local/lib/python3.6/dist-packages (from category_encoders) (1.1.4)\n",
            "Requirement already satisfied: scipy>=1.0.0 in /usr/local/lib/python3.6/dist-packages (from category_encoders) (1.4.1)\n",
            "Requirement already satisfied: joblib>=0.11 in /usr/local/lib/python3.6/dist-packages (from scikit-learn>=0.20.0->category_encoders) (0.17.0)\n",
            "Requirement already satisfied: six in /usr/local/lib/python3.6/dist-packages (from patsy>=0.5.1->category_encoders) (1.15.0)\n",
            "Requirement already satisfied: pytz>=2017.2 in /usr/local/lib/python3.6/dist-packages (from pandas>=0.21.1->category_encoders) (2018.9)\n",
            "Requirement already satisfied: python-dateutil>=2.7.3 in /usr/local/lib/python3.6/dist-packages (from pandas>=0.21.1->category_encoders) (2.8.1)\n",
            "Installing collected packages: category-encoders\n",
            "Successfully installed category-encoders-2.2.2\n"
          ],
          "name": "stdout"
        }
      ]
    },
    {
      "cell_type": "code",
      "metadata": {
        "id": "VmqaO85FQHOx"
      },
      "source": [
        "testSet_X = testSet[[\"dur\", \"spkts\", \"sttl\", \"ct_dst_sport_ltm\", \"rate\", \"ct_state_ttl\", \"ct_srv_dst\", \"ct_srv_src\", \"ct_dst_src_ltm\", \"ct_src_ltm\", \"service\", \"proto\", \"ct_dst_ltm\"]]\n",
        "testSet_X = pd.get_dummies(testSet_X, columns=[\"proto\", \"service\"])\n",
        "testSet_Y = testSet[\"label\"]\n"
      ],
      "execution_count": null,
      "outputs": []
    },
    {
      "cell_type": "code",
      "metadata": {
        "id": "LmcAsq_DN_j8",
        "colab": {
          "base_uri": "https://localhost:8080/",
          "height": 34
        },
        "outputId": "b653e7d5-67ab-4c2a-ad8b-894bc7adba85"
      },
      "source": [
        "#Import svm model\n",
        "from sklearn import svm\n",
        "\n",
        "#Create a svm Classifier\n",
        "clf = svm.SVC(kernel='linear', verbose=True) # Linear Kernel\n",
        "\n",
        "#Train the model using the training sets\n",
        "clf.fit(trainSet_X.values, trainSet_Y.values)\n",
        "print(\"Done Training\")\n",
        "#Predict the response for test dataset\n"
      ],
      "execution_count": null,
      "outputs": [
        {
          "output_type": "stream",
          "text": [
            "[LibSVM]"
          ],
          "name": "stdout"
        }
      ]
    },
    {
      "cell_type": "code",
      "metadata": {
        "id": "D7zhxHlNQkAz"
      },
      "source": [
        "y_pred = clf.predict(testSet_X)"
      ],
      "execution_count": null,
      "outputs": []
    },
    {
      "cell_type": "code",
      "metadata": {
        "id": "MBhwtR7jU_zF"
      },
      "source": [
        "from sklearn.metrics import classification_report, confusion_matrix\n",
        "print(confusion_matrix(testSet_Y,y_pred))\n",
        "print(classification_report(testSet_Y,y_pred))"
      ],
      "execution_count": null,
      "outputs": []
    },
    {
      "cell_type": "code",
      "metadata": {
        "id": "hrK53S6UTmgz"
      },
      "source": [
        "#Feature Selection  -  Low Variance \n",
        "\n",
        "from sklearn.feature_selection import VarianceThreshold\n",
        "X = trainSet_X\n",
        "sel = VarianceThreshold(threshold=(.8 * (1 - .8)))\n",
        "print(sel.fit_transform(X))\n",
        "\n",
        "\n"
      ],
      "execution_count": null,
      "outputs": []
    },
    {
      "cell_type": "code",
      "metadata": {
        "id": "qcWlMQp0Tmx0"
      },
      "source": [
        "#Feature Selection -  Univariate feature selection\n",
        "\n",
        "from sklearn.datasets import load_iris\n",
        "from sklearn.feature_selection import SelectKBest\n",
        "from sklearn.feature_selection import chi2\n",
        "X, y = trainSet_X , trainSet_Y\n",
        "X.shape\n",
        "X_new = SelectKBest(chi2, k=2).fit_transform(X, y)\n",
        "X_new.shape"
      ],
      "execution_count": null,
      "outputs": []
    },
    {
      "cell_type": "code",
      "metadata": {
        "id": "Ira09DtGYFcH"
      },
      "source": [
        "#Feature Selection -  L1 feature selection\n",
        "from sklearn.svm import LinearSVC\n",
        "from sklearn.feature_selection import SelectFromModel\n",
        "X, y = trainSet_X , trainSet_Y\n",
        "lsvc = LinearSVC(C=0.01, penalty=\"l1\", dual=False).fit(X, y)\n",
        "model = SelectFromModel(lsvc, prefit=True)\n",
        "X_new = model.transform(X)\n",
        "print(X_new.shape)"
      ],
      "execution_count": null,
      "outputs": []
    },
    {
      "cell_type": "code",
      "metadata": {
        "id": "GiKL2CL2Ya4B"
      },
      "source": [
        "#Feature Selection -  Tree based feature selection\n",
        "from sklearn.ensemble import ExtraTreesClassifier\n",
        "\n",
        "from sklearn.feature_selection import SelectFromModel\n",
        "X, y = trainSet_X , trainSet_Y\n",
        "clf = ExtraTreesClassifier(n_estimators=50)\n",
        "clf = clf.fit(X, y)\n",
        "print(clf.feature_importances_)\n",
        "model = SelectFromModel(clf, prefit=True)\n",
        "X_new = model.transform(X)\n",
        "print(X_new.shape) "
      ],
      "execution_count": null,
      "outputs": []
    },
    {
      "cell_type": "code",
      "metadata": {
        "id": "52dr1uiBCkFt",
        "colab": {
          "base_uri": "https://localhost:8080/",
          "height": 34
        },
        "outputId": "ed0d8e79-d65b-4ba9-8024-196a3debe12e"
      },
      "source": [
        "#Import svm model\n",
        "from sklearn import svm\n",
        "\n",
        "#Create a svm Classifier\n",
        "clf = svm.SVC(verbose=True) # Linear Kernel\n",
        "\n",
        "#Train the model using the training sets\n",
        "x = [[1, 4],[2, 7], [3,3], [8,8]]\n",
        "y = [1, 1, 1, 0]\n",
        "clf.fit(x, y)\n",
        "print(\"Done Training\")\n",
        "#Predict the response for test dataset"
      ],
      "execution_count": null,
      "outputs": [
        {
          "output_type": "stream",
          "text": [
            "[LibSVM]Done Training\n"
          ],
          "name": "stdout"
        }
      ]
    },
    {
      "cell_type": "code",
      "metadata": {
        "id": "v2T6rPIpC01T",
        "colab": {
          "base_uri": "https://localhost:8080/",
          "height": 34
        },
        "outputId": "bddbe3a0-1983-43b4-f5a3-2ff24a087d12"
      },
      "source": [
        "clf.predict([[6,1]])"
      ],
      "execution_count": null,
      "outputs": [
        {
          "output_type": "execute_result",
          "data": {
            "text/plain": [
              "array([1])"
            ]
          },
          "metadata": {
            "tags": []
          },
          "execution_count": 12
        }
      ]
    },
    {
      "cell_type": "code",
      "metadata": {
        "id": "D8PihT1DC7z_"
      },
      "source": [
        "    from thundersvmScikit import SVC \n",
        "    #... then import all your sklearn stuff as usual \n",
        "    clf = SVC(kernel='linear').fit(train_x, train_y) # same params "
      ],
      "execution_count": null,
      "outputs": []
    },
    {
      "cell_type": "code",
      "metadata": {
        "id": "WWgR1W-oCmLW",
        "colab": {
          "base_uri": "https://localhost:8080/",
          "height": 139
        },
        "outputId": "af9852bf-b25c-4fc8-e538-d74e9b36df5a"
      },
      "source": [
        "l = trainSet.columns.values\n",
        "print(l)\n"
      ],
      "execution_count": null,
      "outputs": [
        {
          "output_type": "stream",
          "text": [
            "['id' 'dur' 'proto' 'service' 'state' 'spkts' 'dpkts' 'sbytes' 'dbytes'\n",
            " 'rate' 'sttl' 'dttl' 'sload' 'dload' 'sloss' 'dloss' 'sinpkt' 'dinpkt'\n",
            " 'sjit' 'djit' 'swin' 'stcpb' 'dtcpb' 'dwin' 'tcprtt' 'synack' 'ackdat'\n",
            " 'smean' 'dmean' 'trans_depth' 'response_body_len' 'ct_srv_src'\n",
            " 'ct_state_ttl' 'ct_dst_ltm' 'ct_src_dport_ltm' 'ct_dst_sport_ltm'\n",
            " 'ct_dst_src_ltm' 'is_ftp_login' 'ct_ftp_cmd' 'ct_flw_http_mthd'\n",
            " 'ct_src_ltm' 'ct_srv_dst' 'is_sm_ips_ports' 'attack_cat' 'label']\n"
          ],
          "name": "stdout"
        }
      ]
    },
    {
      "cell_type": "code",
      "metadata": {
        "id": "jzaq99cnDSHM",
        "colab": {
          "base_uri": "https://localhost:8080/",
          "height": 352
        },
        "outputId": "549d541d-4bbb-4bf5-b3cb-29d865018fe4"
      },
      "source": [
        "l = [\"ct_state_ttl\", \"ct_flw_http_mthd\", \"ct_ftp_cmd\", \"ct_srv_src\", \"ct_srv_dst\", \"ct_dst_ltm\",\"ct_src_ltm\", \"ct_src_dport_ltm\", \"ct_dst_sport_ltm\", \"ct_dst_src_ltm\"]\n",
        "\n",
        "sns.distplot(trainSet[l[9]], hist=False)"
      ],
      "execution_count": null,
      "outputs": [
        {
          "output_type": "stream",
          "text": [
            "/usr/local/lib/python3.6/dist-packages/seaborn/distributions.py:2551: FutureWarning: `distplot` is a deprecated function and will be removed in a future version. Please adapt your code to use either `displot` (a figure-level function with similar flexibility) or `kdeplot` (an axes-level function for kernel density plots).\n",
            "  warnings.warn(msg, FutureWarning)\n"
          ],
          "name": "stderr"
        },
        {
          "output_type": "execute_result",
          "data": {
            "text/plain": [
              "<matplotlib.axes._subplots.AxesSubplot at 0x7f2cc8842898>"
            ]
          },
          "metadata": {
            "tags": []
          },
          "execution_count": 90
        },
        {
          "output_type": "display_data",
          "data": {
            "image/png": "[encoded data removed]",
            "text/plain": [
              "<Figure size 432x288 with 1 Axes>"
            ]
          },
          "metadata": {
            "tags": [],
            "needs_background": "light"
          }
        }
      ]
    },
    {
      "cell_type": "code",
      "metadata": {
        "id": "-2rhPTHU01aB"
      },
      "source": [
        "from pandas import read_csv\n",
        "from sklearn.preprocessing import LabelEncoder\n",
        "from sklearn.preprocessing import OrdinalEncoder\n",
        "from sklearn.feature_selection import SelectKBest\n",
        "from sklearn.feature_selection import chi2\n",
        "from sklearn.feature_selection import mutual_info_classif\n",
        "from sklearn.feature_selection import f_classif\n",
        "from sklearn.model_selection import train_test_split\n",
        "from sklearn.linear_model import LogisticRegression\n",
        "from sklearn.metrics import accuracy_score\n",
        "from matplotlib import pyplot"
      ],
      "execution_count": null,
      "outputs": []
    },
    {
      "cell_type": "code",
      "metadata": {
        "id": "Dg6NmPaK03km",
        "colab": {
          "base_uri": "https://localhost:8080/",
          "height": 132
        },
        "outputId": "53841031-c2a5-40a3-abc3-bfbe53d56512"
      },
      "source": [
        "def select_features(X_train, y_train, X_test):\n",
        "\tfs = SelectKBest(score_func=mutual_info_classif), k='all')\n",
        "\tfs.fit(X_train, y_train)\n",
        "\tX_train_fs = fs.transform(X_train)\n",
        "\t# X_test_fs = fs.transform(X_test)\n",
        "\tX_test_fs = None\n",
        "\treturn X_train_fs, X_test_fs, fs"
      ],
      "execution_count": null,
      "outputs": [
        {
          "output_type": "error",
          "ename": "SyntaxError",
          "evalue": "ignored",
          "traceback": [
            "\u001b[0;36m  File \u001b[0;32m\"<ipython-input-62-41d00eb3a8da>\"\u001b[0;36m, line \u001b[0;32m2\u001b[0m\n\u001b[0;31m    fs = SelectKBest(score_func=mutual_info_classif), k='all')\u001b[0m\n\u001b[0m                                                             ^\u001b[0m\n\u001b[0;31mSyntaxError\u001b[0m\u001b[0;31m:\u001b[0m invalid syntax\n"
          ]
        }
      ]
    },
    {
      "cell_type": "code",
      "metadata": {
        "id": "FkAC-BuID9re",
        "colab": {
          "base_uri": "https://localhost:8080/",
          "height": 335
        },
        "outputId": "288f020b-bb4c-4e77-efef-77411deb90f5"
      },
      "source": [
        "\"\"\"\n",
        "  Feature selection\n",
        "\"\"\"\n",
        "cat_variables = [\"proto\", \"state\", \"service\", \"is_sm_ips_ports\", \"is_ftp_login\" ]\n",
        "\n",
        "X_train = trainSet[cat_variables]\n",
        "y_train = trainSet[\"label\"]\n",
        "X_test = testSet[cat_variables]\n",
        "# y_test = testSet[\"label\"]\n",
        "\n",
        "\n",
        "\n",
        "X_train = X_train.astype(str)\n",
        "X_test = X_test.astype(str)\n",
        "\n",
        "oe = TargetEncoder()\n",
        "oe.fit(X_train, y_train)\n",
        "X_train = oe.transform(X_train)\n",
        "# X_test = oe.transform(X_test)\n",
        "\n",
        "# le = LabelEncoder()\n",
        "# le.fit(y_train)\n",
        "# y_train = le.transform(y_train)\n",
        "# y_test = le.transform(y_test)\n",
        "\n",
        "X_train_fs, X_test_fs, fs = select_features(X_train, y_train, X_test)\n",
        "\n",
        "\n",
        "pyplot.bar(cat_variables, fs.scores_)\n",
        "\n",
        "pyplot.xlabel(\"Categorical Features\")\n",
        "pyplot.ylabel(\"Mutual Information Score\")\n",
        "\n",
        "\n",
        "pyplot.show()"
      ],
      "execution_count": null,
      "outputs": [
        {
          "output_type": "stream",
          "text": [
            "/usr/local/lib/python3.6/dist-packages/category_encoders/utils.py:21: FutureWarning: is_categorical is deprecated and will be removed in a future version.  Use is_categorical_dtype instead\n",
            "  elif pd.api.types.is_categorical(cols):\n"
          ],
          "name": "stderr"
        },
        {
          "output_type": "display_data",
          "data": {
            "image/png": "[encoded data removed]",
            "text/plain": [
              "<Figure size 432x288 with 1 Axes>"
            ]
          },
          "metadata": {
            "tags": [],
            "needs_background": "light"
          }
        }
      ]
    },
    {
      "cell_type": "code",
      "metadata": {
        "id": "WP1z_A4L4lm9",
        "colab": {
          "base_uri": "https://localhost:8080/",
          "height": 279
        },
        "outputId": "fe955762-1823-4fae-ef62-bde5698fc3fa"
      },
      "source": [
        "\n",
        "# print(trainSet.columns)\n",
        "numerical_feat = [\"dur\" , \"sbytes\", \"dbytes\", \"sttl\", \"dttl\", \"sloss\", \"dloss\",  \"sload\", \"dload\", \"spkts\", \"dpkts\", \"swin\", \"dwin\", \"smean\", \"dmean\", \"trans_depth\", \"response_body_len\", \"sjit\", \"djit\", \"sinpkt\" , \"dinpkt\", \"tcprtt\", \"synack\", \"ackdat\", \"ct_state_ttl\", \"ct_flw_http_mthd\", \"ct_ftp_cmd\", \"ct_srv_src\", \"ct_srv_dst\", \"ct_dst_ltm\",\"ct_src_ltm\", \"ct_src_dport_ltm\", \"ct_dst_sport_ltm\", \"ct_dst_src_ltm\", \"rate\"]\n",
        "# [\"smeans\", \"dmeans\", , \"sintpkt\", \"dintpkt\", \"ct_src_ ltm\", \"res_bdy_len\"]\n",
        "X_train = trainSet[numerical_feat]\n",
        "y_train = trainSet[\"label\"]\n",
        "X_test = testSet[numerical_feat]\n",
        "y_test = testSet[\"label\"]\n",
        "\n",
        "\n",
        "\n",
        "# X_train = X_train.astype(str)\n",
        "# X_test = X_test.astype(str)\n",
        "\n",
        "# oe = OrdinalEncoder()\n",
        "# oe.fit(X_train)\n",
        "# X_train = oe.transform(X_train)\n",
        "# X_test = oe.transform(X_test)\n",
        "\n",
        "# le = LabelEncoder()\n",
        "# le.fit(y_train)\n",
        "# y_train = le.transform(y_train)\n",
        "# y_test = le.transform(y_test)\n",
        "\n",
        "fs = SelectKBest(score_func=f_classif, k=15)\n",
        "X_selected = fs.fit_transform(X_train, y_train)\n",
        "mask = fs.get_support()\n",
        "l = []\n",
        "for i, feature in zip(mask, numerical_feat):\n",
        "    if i:\n",
        "        l.append(feature)\n",
        "# print(l)\n",
        "# print(len(numerical_feat))\n",
        "plt.xlabel(\"Feature Index\")\n",
        "plt.ylabel(\"ANOVA F value\")\n",
        "# pyplot.bar(cat_variables, fs.scores_)\n",
        "pyplot.bar([i+1 for i in range(len(numerical_feat))], fs.scores_)\n",
        "plt.savefig('numerical_feat.png')\n",
        "pyplot.show()"
      ],
      "execution_count": null,
      "outputs": [
        {
          "output_type": "display_data",
          "data": {
            "image/png": "[encoded data removed]",
            "text/plain": [
              "<Figure size 432x288 with 1 Axes>"
            ]
          },
          "metadata": {
            "tags": [],
            "needs_background": "light"
          }
        }
      ]
    },
    {
      "cell_type": "code",
      "metadata": {
        "id": "BnO1wKNZDg0J",
        "colab": {
          "base_uri": "https://localhost:8080/",
          "height": 608
        },
        "outputId": "8e7db712-2f0b-4f5a-ce2c-2c632580d9b9"
      },
      "source": [
        "trainSet.groupby('label').size().plot(kind='pie', figsize = (10,10))\n",
        "plt.legend(bbox_to_anchor=(1,0.5), loc=\"center right\", fontsize=10, \n",
        "           bbox_transform=plt.gcf().transFigure)\n",
        "plt.title(\"Dustribution between normal and\")"
      ],
      "execution_count": null,
      "outputs": [
        {
          "output_type": "execute_result",
          "data": {
            "text/plain": [
              "Text(0.5, 1.0, 'Pie chart for state')"
            ]
          },
          "metadata": {
            "tags": []
          },
          "execution_count": 91
        },
        {
          "output_type": "display_data",
          "data": {
            "image/png": "[encoded data removed]",
            "text/plain": [
              "<Figure size 720x720 with 1 Axes>"
            ]
          },
          "metadata": {
            "tags": []
          }
        }
      ]
    },
    {
      "cell_type": "code",
      "metadata": {
        "id": "MIFQ7nUHy33C",
        "colab": {
          "base_uri": "https://localhost:8080/",
          "height": 589
        },
        "outputId": "b13d186f-0c46-4af6-b5b4-e8325f7e0fad"
      },
      "source": [
        "testSet.groupby('attack_cat').size().plot(kind='pie', figsize = (15,10))\n",
        "plt.legend(bbox_to_anchor=(1,0.5), loc=\"lower left\", fontsize=14, \n",
        "           )\n",
        "# plt.figtext(.5,.8,\"Attack Category Distribution\",fontsize=18,ha='cc')\n",
        "plt.suptitle(\"Attack Category Distribution\", fontsize=18, y = 0.9) # Add the text/suptitle to figure\n",
        "# plt.title(\"Attack Category Distribution\", fontdict=18)\n",
        "plt.savefig('distribution2.png')"
      ],
      "execution_count": null,
      "outputs": [
        {
          "output_type": "display_data",
          "data": {
            "image/png": "[encoded data removed]",
            "text/plain": [
              "<Figure size 1080x720 with 1 Axes>"
            ]
          },
          "metadata": {
            "tags": []
          }
        }
      ]
    },
    {
      "cell_type": "code",
      "metadata": {
        "id": "8qhpVOCJ6NNL",
        "colab": {
          "base_uri": "https://localhost:8080/"
        },
        "outputId": "6565b8da-d47d-4e90-ba9a-0e06d53bb8f5"
      },
      "source": [
        "a = np.array([True, False, True])\n",
        "np.invert(a)"
      ],
      "execution_count": 14,
      "outputs": [
        {
          "output_type": "execute_result",
          "data": {
            "text/plain": [
              "array([False,  True, False])"
            ]
          },
          "metadata": {
            "tags": []
          },
          "execution_count": 14
        }
      ]
    },
    {
      "cell_type": "code",
      "metadata": {
        "colab": {
          "base_uri": "https://localhost:8080/"
        },
        "id": "CbkQa8t4aLAS",
        "outputId": "817b6058-a47c-4b3d-e4c8-c62b23afb9b8"
      },
      "source": [
        "b"
      ],
      "execution_count": 12,
      "outputs": [
        {
          "output_type": "execute_result",
          "data": {
            "text/plain": [
              "['/bin/bash: a: command not found']"
            ]
          },
          "metadata": {
            "tags": []
          },
          "execution_count": 12
        }
      ]
    },
    {
      "cell_type": "code",
      "metadata": {
        "id": "S-yRnnc9aONA"
      },
      "source": [
        ""
      ],
      "execution_count": null,
      "outputs": []
    }
  ]
}